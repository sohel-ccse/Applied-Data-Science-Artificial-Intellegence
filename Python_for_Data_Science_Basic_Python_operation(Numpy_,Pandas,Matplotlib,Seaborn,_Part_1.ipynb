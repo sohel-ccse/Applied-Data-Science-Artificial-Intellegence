{
  "nbformat": 4,
  "nbformat_minor": 0,
  "metadata": {
    "colab": {
      "name": "Python for Data Science-Basic Python operation(Numpy ,Pandas,Matplotlib,Seaborn, -Part-1",
      "provenance": [],
      "collapsed_sections": []
    },
    "kernelspec": {
      "name": "python3",
      "display_name": "Python 3"
    }
  },
  "cells": [
    {
      "cell_type": "code",
      "metadata": {
        "id": "uvjaFYQtfBPF",
        "colab_type": "code",
        "colab": {
          "base_uri": "https://localhost:8080/",
          "height": 33
        },
        "outputId": "f93a99c0-cc39-46eb-c378-3510319a585f"
      },
      "source": [
        "#Python Basic Zero to Advance\n",
        "\n",
        "print(\"Applied Data Science:Python for Data Science & AI\")"
      ],
      "execution_count": 1,
      "outputs": [
        {
          "output_type": "stream",
          "text": [
            "Applied Data Science:Python for Data Science & AI\n"
          ],
          "name": "stdout"
        }
      ]
    },
    {
      "cell_type": "code",
      "metadata": {
        "id": "C2Dt_G4Egw0k",
        "colab_type": "code",
        "colab": {}
      },
      "source": [
        "A=\"Applied Data Science:Python for Data Science & AI\""
      ],
      "execution_count": 2,
      "outputs": []
    },
    {
      "cell_type": "code",
      "metadata": {
        "id": "IHhRJbSJg52j",
        "colab_type": "code",
        "colab": {
          "base_uri": "https://localhost:8080/",
          "height": 33
        },
        "outputId": "d74d0685-b1b8-425b-a546-a5dd9d597631"
      },
      "source": [
        "print(A)"
      ],
      "execution_count": 3,
      "outputs": [
        {
          "output_type": "stream",
          "text": [
            "Applied Data Science:Python for Data Science & AI\n"
          ],
          "name": "stdout"
        }
      ]
    },
    {
      "cell_type": "code",
      "metadata": {
        "id": "s6QU3a9yg9V-",
        "colab_type": "code",
        "colab": {
          "base_uri": "https://localhost:8080/",
          "height": 35
        },
        "outputId": "c75a5e04-39b3-40a1-aa1b-8073a607efd9"
      },
      "source": [
        "#Strings:Slicing\n",
        "A[:8]"
      ],
      "execution_count": 4,
      "outputs": [
        {
          "output_type": "execute_result",
          "data": {
            "application/vnd.google.colaboratory.intrinsic+json": {
              "type": "string"
            },
            "text/plain": [
              "'Applied '"
            ]
          },
          "metadata": {
            "tags": []
          },
          "execution_count": 4
        }
      ]
    },
    {
      "cell_type": "code",
      "metadata": {
        "id": "zXntLBu-hW2S",
        "colab_type": "code",
        "colab": {
          "base_uri": "https://localhost:8080/",
          "height": 35
        },
        "outputId": "fc798c0a-453a-47e5-e3a0-23ef467523f7"
      },
      "source": [
        "A[7:15]"
      ],
      "execution_count": 5,
      "outputs": [
        {
          "output_type": "execute_result",
          "data": {
            "application/vnd.google.colaboratory.intrinsic+json": {
              "type": "string"
            },
            "text/plain": [
              "' Data Sc'"
            ]
          },
          "metadata": {
            "tags": []
          },
          "execution_count": 5
        }
      ]
    },
    {
      "cell_type": "code",
      "metadata": {
        "id": "_F2Tu5I3hg6Z",
        "colab_type": "code",
        "colab": {
          "base_uri": "https://localhost:8080/",
          "height": 35
        },
        "outputId": "fbce381d-b6a7-4bce-da9e-fe46f20d2720"
      },
      "source": [
        "#Strings:Stride\n",
        "\n",
        "A[::2]"
      ],
      "execution_count": 6,
      "outputs": [
        {
          "output_type": "execute_result",
          "data": {
            "application/vnd.google.colaboratory.intrinsic+json": {
              "type": "string"
            },
            "text/plain": [
              "'ApidDt cec:yhnfrDt cec  I'"
            ]
          },
          "metadata": {
            "tags": []
          },
          "execution_count": 6
        }
      ]
    },
    {
      "cell_type": "code",
      "metadata": {
        "id": "B1Wpg9BTiJ6h",
        "colab_type": "code",
        "colab": {
          "base_uri": "https://localhost:8080/",
          "height": 35
        },
        "outputId": "13b95ae6-1c13-440c-bbb8-1bf2146741fa"
      },
      "source": [
        "A[::5]"
      ],
      "execution_count": 7,
      "outputs": [
        {
          "output_type": "execute_result",
          "data": {
            "application/vnd.google.colaboratory.intrinsic+json": {
              "type": "string"
            },
            "text/plain": [
              "'Aeti:orae&'"
            ]
          },
          "metadata": {
            "tags": []
          },
          "execution_count": 7
        }
      ]
    },
    {
      "cell_type": "code",
      "metadata": {
        "id": "uWIeAShig_8T",
        "colab_type": "code",
        "colab": {
          "base_uri": "https://localhost:8080/",
          "height": 35
        },
        "outputId": "06f7fd1d-7afe-4c96-daa6-ef5584d79226"
      },
      "source": [
        "#Method:\n",
        "A.upper()\n"
      ],
      "execution_count": 8,
      "outputs": [
        {
          "output_type": "execute_result",
          "data": {
            "application/vnd.google.colaboratory.intrinsic+json": {
              "type": "string"
            },
            "text/plain": [
              "'APPLIED DATA SCIENCE:PYTHON FOR DATA SCIENCE & AI'"
            ]
          },
          "metadata": {
            "tags": []
          },
          "execution_count": 8
        }
      ]
    },
    {
      "cell_type": "code",
      "metadata": {
        "id": "Oodz6vs4izQP",
        "colab_type": "code",
        "colab": {
          "base_uri": "https://localhost:8080/",
          "height": 35
        },
        "outputId": "5e6eae17-7a1b-4bcf-fc36-b010dfe6a20b"
      },
      "source": [
        "A.lower()"
      ],
      "execution_count": 9,
      "outputs": [
        {
          "output_type": "execute_result",
          "data": {
            "application/vnd.google.colaboratory.intrinsic+json": {
              "type": "string"
            },
            "text/plain": [
              "'applied data science:python for data science & ai'"
            ]
          },
          "metadata": {
            "tags": []
          },
          "execution_count": 9
        }
      ]
    },
    {
      "cell_type": "code",
      "metadata": {
        "id": "Y8PbKXg5i2Wz",
        "colab_type": "code",
        "colab": {
          "base_uri": "https://localhost:8080/",
          "height": 33
        },
        "outputId": "7423e0f8-e578-4647-d577-750cd3cf2aba"
      },
      "source": [
        "len(A)"
      ],
      "execution_count": 10,
      "outputs": [
        {
          "output_type": "execute_result",
          "data": {
            "text/plain": [
              "49"
            ]
          },
          "metadata": {
            "tags": []
          },
          "execution_count": 10
        }
      ]
    },
    {
      "cell_type": "code",
      "metadata": {
        "id": "cB3zy3Uci6JA",
        "colab_type": "code",
        "colab": {
          "base_uri": "https://localhost:8080/",
          "height": 35
        },
        "outputId": "d1ee2a18-bd38-428a-9242-c38d98e2362f"
      },
      "source": [
        "B=A.replace('AI','ML')\n",
        "B"
      ],
      "execution_count": 11,
      "outputs": [
        {
          "output_type": "execute_result",
          "data": {
            "application/vnd.google.colaboratory.intrinsic+json": {
              "type": "string"
            },
            "text/plain": [
              "'Applied Data Science:Python for Data Science & ML'"
            ]
          },
          "metadata": {
            "tags": []
          },
          "execution_count": 11
        }
      ]
    },
    {
      "cell_type": "code",
      "metadata": {
        "id": "A7K6ferRjYZz",
        "colab_type": "code",
        "colab": {
          "base_uri": "https://localhost:8080/",
          "height": 33
        },
        "outputId": "0dbbd7f5-d277-4bfa-8c85-bf3501844dec"
      },
      "source": [
        "#Tuple\n",
        "C=('Sohel Rana',4646,87878,20.6)\n",
        "C"
      ],
      "execution_count": 12,
      "outputs": [
        {
          "output_type": "execute_result",
          "data": {
            "text/plain": [
              "('Sohel Rana', 4646, 87878, 20.6)"
            ]
          },
          "metadata": {
            "tags": []
          },
          "execution_count": 12
        }
      ]
    },
    {
      "cell_type": "code",
      "metadata": {
        "id": "Tb2KTBn2jsEo",
        "colab_type": "code",
        "colab": {
          "base_uri": "https://localhost:8080/",
          "height": 33
        },
        "outputId": "624667f7-4382-4101-a3bb-a6b1af6a16ae"
      },
      "source": [
        "len(C)"
      ],
      "execution_count": 13,
      "outputs": [
        {
          "output_type": "execute_result",
          "data": {
            "text/plain": [
              "4"
            ]
          },
          "metadata": {
            "tags": []
          },
          "execution_count": 13
        }
      ]
    },
    {
      "cell_type": "code",
      "metadata": {
        "id": "tgQX_bXGj47F",
        "colab_type": "code",
        "colab": {
          "base_uri": "https://localhost:8080/",
          "height": 33
        },
        "outputId": "8f3da703-df05-4413-a28b-67f9de2d8815"
      },
      "source": [
        "C[3]"
      ],
      "execution_count": 14,
      "outputs": [
        {
          "output_type": "execute_result",
          "data": {
            "text/plain": [
              "20.6"
            ]
          },
          "metadata": {
            "tags": []
          },
          "execution_count": 14
        }
      ]
    },
    {
      "cell_type": "code",
      "metadata": {
        "id": "0fuvKM1Sj8QD",
        "colab_type": "code",
        "colab": {
          "base_uri": "https://localhost:8080/",
          "height": 33
        },
        "outputId": "6e242b16-dfe6-4e9e-844a-479b16b20469"
      },
      "source": [
        "C[-1]"
      ],
      "execution_count": 15,
      "outputs": [
        {
          "output_type": "execute_result",
          "data": {
            "text/plain": [
              "20.6"
            ]
          },
          "metadata": {
            "tags": []
          },
          "execution_count": 15
        }
      ]
    },
    {
      "cell_type": "code",
      "metadata": {
        "id": "StXChYpFkE5B",
        "colab_type": "code",
        "colab": {
          "base_uri": "https://localhost:8080/",
          "height": 33
        },
        "outputId": "2c88e6e1-cee2-4d5d-8468-fdbef5d99834"
      },
      "source": [
        "D=C+('New Tuple',12,3.6677,0.77)\n",
        "D"
      ],
      "execution_count": 16,
      "outputs": [
        {
          "output_type": "execute_result",
          "data": {
            "text/plain": [
              "('Sohel Rana', 4646, 87878, 20.6, 'New Tuple', 12, 3.6677, 0.77)"
            ]
          },
          "metadata": {
            "tags": []
          },
          "execution_count": 16
        }
      ]
    },
    {
      "cell_type": "code",
      "metadata": {
        "id": "dwJWVXlGkcLi",
        "colab_type": "code",
        "colab": {
          "base_uri": "https://localhost:8080/",
          "height": 33
        },
        "outputId": "69a82a10-8437-4e46-9758-66e2c75ef9a3"
      },
      "source": [
        "#Tupple Slicing\n",
        "D[2:7]"
      ],
      "execution_count": 17,
      "outputs": [
        {
          "output_type": "execute_result",
          "data": {
            "text/plain": [
              "(87878, 20.6, 'New Tuple', 12, 3.6677)"
            ]
          },
          "metadata": {
            "tags": []
          },
          "execution_count": 17
        }
      ]
    },
    {
      "cell_type": "code",
      "metadata": {
        "id": "DANEk-S1k4Ha",
        "colab_type": "code",
        "colab": {
          "base_uri": "https://localhost:8080/",
          "height": 33
        },
        "outputId": "96d49feb-93c9-4cae-f6f2-4c852d2fc97a"
      },
      "source": [
        "D[0:5]"
      ],
      "execution_count": 18,
      "outputs": [
        {
          "output_type": "execute_result",
          "data": {
            "text/plain": [
              "('Sohel Rana', 4646, 87878, 20.6, 'New Tuple')"
            ]
          },
          "metadata": {
            "tags": []
          },
          "execution_count": 18
        }
      ]
    },
    {
      "cell_type": "code",
      "metadata": {
        "id": "feGE1Hazk8t7",
        "colab_type": "code",
        "colab": {
          "base_uri": "https://localhost:8080/",
          "height": 33
        },
        "outputId": "cd693347-a70c-4033-9ce3-0ee94dabe7ab"
      },
      "source": [
        "#Tuple:Immputable\n",
        "E=(2386,2,545.3,3799,2329479,9,3,1,)\n",
        "F=sorted(E)\n",
        "F"
      ],
      "execution_count": 19,
      "outputs": [
        {
          "output_type": "execute_result",
          "data": {
            "text/plain": [
              "[1, 2, 3, 9, 545.3, 2386, 3799, 2329479]"
            ]
          },
          "metadata": {
            "tags": []
          },
          "execution_count": 19
        }
      ]
    },
    {
      "cell_type": "code",
      "metadata": {
        "id": "huJdLwU5orVP",
        "colab_type": "code",
        "colab": {
          "base_uri": "https://localhost:8080/",
          "height": 33
        },
        "outputId": "e59ba07f-578d-43d3-bb8d-f1e2b60725f7"
      },
      "source": [
        "#Tuple :Nesting\n",
        "G=(1,6768,(\"ABC\",\"EDFG\"),(13,568),(\"XYZ\",133),(\"dgrer\",(646,657)))\n",
        "G"
      ],
      "execution_count": 20,
      "outputs": [
        {
          "output_type": "execute_result",
          "data": {
            "text/plain": [
              "(1, 6768, ('ABC', 'EDFG'), (13, 568), ('XYZ', 133), ('dgrer', (646, 657)))"
            ]
          },
          "metadata": {
            "tags": []
          },
          "execution_count": 20
        }
      ]
    },
    {
      "cell_type": "code",
      "metadata": {
        "id": "zI6rYGPcooNL",
        "colab_type": "code",
        "colab": {
          "base_uri": "https://localhost:8080/",
          "height": 50
        },
        "outputId": "2864f492-8983-44ec-a7b2-bde9cc65bd58"
      },
      "source": [
        "print(G[5])\n",
        "len(G)"
      ],
      "execution_count": 21,
      "outputs": [
        {
          "output_type": "stream",
          "text": [
            "('dgrer', (646, 657))\n"
          ],
          "name": "stdout"
        },
        {
          "output_type": "execute_result",
          "data": {
            "text/plain": [
              "6"
            ]
          },
          "metadata": {
            "tags": []
          },
          "execution_count": 21
        }
      ]
    },
    {
      "cell_type": "code",
      "metadata": {
        "id": "agNTrIN-qPa6",
        "colab_type": "code",
        "colab": {
          "base_uri": "https://localhost:8080/",
          "height": 35
        },
        "outputId": "039421ba-1426-480a-fecc-d85e52226087"
      },
      "source": [
        "G[5][0]"
      ],
      "execution_count": 22,
      "outputs": [
        {
          "output_type": "execute_result",
          "data": {
            "application/vnd.google.colaboratory.intrinsic+json": {
              "type": "string"
            },
            "text/plain": [
              "'dgrer'"
            ]
          },
          "metadata": {
            "tags": []
          },
          "execution_count": 22
        }
      ]
    },
    {
      "cell_type": "code",
      "metadata": {
        "id": "7hvU5p76qg-3",
        "colab_type": "code",
        "colab": {
          "base_uri": "https://localhost:8080/",
          "height": 33
        },
        "outputId": "2ea791cd-83cd-415a-d194-cc8a5f74026b"
      },
      "source": [
        "G[5][1]"
      ],
      "execution_count": 23,
      "outputs": [
        {
          "output_type": "execute_result",
          "data": {
            "text/plain": [
              "(646, 657)"
            ]
          },
          "metadata": {
            "tags": []
          },
          "execution_count": 23
        }
      ]
    },
    {
      "cell_type": "code",
      "metadata": {
        "id": "-oLSHccQ6gDq",
        "colab_type": "code",
        "colab": {
          "base_uri": "https://localhost:8080/",
          "height": 33
        },
        "outputId": "d24a036a-4e42-4bc7-cf8d-7cded462a571"
      },
      "source": [
        "#Lists\n",
        "x=[\"jfgjgfgru\",5757,8080,3,7.6,898]\n",
        "x"
      ],
      "execution_count": 24,
      "outputs": [
        {
          "output_type": "execute_result",
          "data": {
            "text/plain": [
              "['jfgjgfgru', 5757, 8080, 3, 7.6, 898]"
            ]
          },
          "metadata": {
            "tags": []
          },
          "execution_count": 24
        }
      ]
    },
    {
      "cell_type": "code",
      "metadata": {
        "id": "9-c0vLGFQDnO",
        "colab_type": "code",
        "colab": {}
      },
      "source": [
        ""
      ],
      "execution_count": 24,
      "outputs": []
    },
    {
      "cell_type": "code",
      "metadata": {
        "id": "bOMGDQPJ6rti",
        "colab_type": "code",
        "colab": {
          "base_uri": "https://localhost:8080/",
          "height": 33
        },
        "outputId": "d10092fa-b004-49dc-ad81-bde39d6213ce"
      },
      "source": [
        "len(x)"
      ],
      "execution_count": 25,
      "outputs": [
        {
          "output_type": "execute_result",
          "data": {
            "text/plain": [
              "6"
            ]
          },
          "metadata": {
            "tags": []
          },
          "execution_count": 25
        }
      ]
    },
    {
      "cell_type": "code",
      "metadata": {
        "id": "sE6nUWox7WqY",
        "colab_type": "code",
        "colab": {
          "base_uri": "https://localhost:8080/",
          "height": 33
        },
        "outputId": "c6a1d546-6d54-47c7-8073-d19dab7c997e"
      },
      "source": [
        "x.extend([\"yuryutyru\",667,989])\n",
        "x"
      ],
      "execution_count": 26,
      "outputs": [
        {
          "output_type": "execute_result",
          "data": {
            "text/plain": [
              "['jfgjgfgru', 5757, 8080, 3, 7.6, 898, 'yuryutyru', 667, 989]"
            ]
          },
          "metadata": {
            "tags": []
          },
          "execution_count": 26
        }
      ]
    },
    {
      "cell_type": "code",
      "metadata": {
        "id": "yz_-NW5F6tz6",
        "colab_type": "code",
        "colab": {
          "base_uri": "https://localhost:8080/",
          "height": 184
        },
        "outputId": "bd4fda3a-d43d-4548-baaf-1f05944340d2"
      },
      "source": [
        "x.append([\"sodehge\",87878,9,0.9])\n",
        "x"
      ],
      "execution_count": 27,
      "outputs": [
        {
          "output_type": "execute_result",
          "data": {
            "text/plain": [
              "['jfgjgfgru',\n",
              " 5757,\n",
              " 8080,\n",
              " 3,\n",
              " 7.6,\n",
              " 898,\n",
              " 'yuryutyru',\n",
              " 667,\n",
              " 989,\n",
              " ['sodehge', 87878, 9, 0.9]]"
            ]
          },
          "metadata": {
            "tags": []
          },
          "execution_count": 27
        }
      ]
    },
    {
      "cell_type": "code",
      "metadata": {
        "id": "6qf5wSId7xL5",
        "colab_type": "code",
        "colab": {
          "base_uri": "https://localhost:8080/",
          "height": 33
        },
        "outputId": "c168473b-6983-486d-84b3-79bd3e62de93"
      },
      "source": [
        "len(x)"
      ],
      "execution_count": 28,
      "outputs": [
        {
          "output_type": "execute_result",
          "data": {
            "text/plain": [
              "10"
            ]
          },
          "metadata": {
            "tags": []
          },
          "execution_count": 28
        }
      ]
    },
    {
      "cell_type": "code",
      "metadata": {
        "id": "Qbor-2uY7Hdk",
        "colab_type": "code",
        "colab": {
          "base_uri": "https://localhost:8080/",
          "height": 33
        },
        "outputId": "1f9fb9e0-5467-4784-e11b-635885219c3b"
      },
      "source": [
        "x[9][2]"
      ],
      "execution_count": 29,
      "outputs": [
        {
          "output_type": "execute_result",
          "data": {
            "text/plain": [
              "9"
            ]
          },
          "metadata": {
            "tags": []
          },
          "execution_count": 29
        }
      ]
    },
    {
      "cell_type": "code",
      "metadata": {
        "id": "3DqG90Ak69rI",
        "colab_type": "code",
        "colab": {
          "base_uri": "https://localhost:8080/",
          "height": 184
        },
        "outputId": "2473eecd-0fa0-4588-e699-ebb6593ea188"
      },
      "source": [
        "#List:aliasing error\n",
        "x[9][2]='ttr'\n",
        "x"
      ],
      "execution_count": 30,
      "outputs": [
        {
          "output_type": "execute_result",
          "data": {
            "text/plain": [
              "['jfgjgfgru',\n",
              " 5757,\n",
              " 8080,\n",
              " 3,\n",
              " 7.6,\n",
              " 898,\n",
              " 'yuryutyru',\n",
              " 667,\n",
              " 989,\n",
              " ['sodehge', 87878, 'ttr', 0.9]]"
            ]
          },
          "metadata": {
            "tags": []
          },
          "execution_count": 30
        }
      ]
    },
    {
      "cell_type": "code",
      "metadata": {
        "id": "VgG3SivC8tzI",
        "colab_type": "code",
        "colab": {
          "base_uri": "https://localhost:8080/",
          "height": 33
        },
        "outputId": "640556c7-70b6-422b-8df7-8f7d63ce9dcf"
      },
      "source": [
        "#Dictionary\n",
        "\n",
        "A={\"a\":[35,87668,\"ghgh\"],\"b\":[2,566,89.6,9],\"c\":1,('d'):(4,6,7)}\n",
        "A"
      ],
      "execution_count": 31,
      "outputs": [
        {
          "output_type": "execute_result",
          "data": {
            "text/plain": [
              "{'a': [35, 87668, 'ghgh'], 'b': [2, 566, 89.6, 9], 'c': 1, 'd': (4, 6, 7)}"
            ]
          },
          "metadata": {
            "tags": []
          },
          "execution_count": 31
        }
      ]
    },
    {
      "cell_type": "code",
      "metadata": {
        "id": "_Rdccmiq91N7",
        "colab_type": "code",
        "colab": {
          "base_uri": "https://localhost:8080/",
          "height": 33
        },
        "outputId": "754f1e7a-c105-4656-ec41-61e83eb0f66f"
      },
      "source": [
        "len(A)"
      ],
      "execution_count": 32,
      "outputs": [
        {
          "output_type": "execute_result",
          "data": {
            "text/plain": [
              "4"
            ]
          },
          "metadata": {
            "tags": []
          },
          "execution_count": 32
        }
      ]
    },
    {
      "cell_type": "code",
      "metadata": {
        "id": "sJFUywp993ks",
        "colab_type": "code",
        "colab": {
          "base_uri": "https://localhost:8080/",
          "height": 33
        },
        "outputId": "99b2862b-069d-404a-8de8-86420ca6f219"
      },
      "source": [
        "A['a']"
      ],
      "execution_count": 33,
      "outputs": [
        {
          "output_type": "execute_result",
          "data": {
            "text/plain": [
              "[35, 87668, 'ghgh']"
            ]
          },
          "metadata": {
            "tags": []
          },
          "execution_count": 33
        }
      ]
    },
    {
      "cell_type": "code",
      "metadata": {
        "id": "feGegKHf-LPs",
        "colab_type": "code",
        "colab": {
          "base_uri": "https://localhost:8080/",
          "height": 35
        },
        "outputId": "c59f0ced-d4bf-4ec5-d7f1-08219fe14371"
      },
      "source": [
        "A['c']=\"79847589475\"\n",
        "A['c']"
      ],
      "execution_count": 34,
      "outputs": [
        {
          "output_type": "execute_result",
          "data": {
            "application/vnd.google.colaboratory.intrinsic+json": {
              "type": "string"
            },
            "text/plain": [
              "'79847589475'"
            ]
          },
          "metadata": {
            "tags": []
          },
          "execution_count": 34
        }
      ]
    },
    {
      "cell_type": "code",
      "metadata": {
        "id": "q32MJydC-fHp",
        "colab_type": "code",
        "colab": {
          "base_uri": "https://localhost:8080/",
          "height": 33
        },
        "outputId": "7c27f9f5-47e2-41f6-9354-e8bf12615b70"
      },
      "source": [
        "\"b\" in A"
      ],
      "execution_count": 35,
      "outputs": [
        {
          "output_type": "execute_result",
          "data": {
            "text/plain": [
              "True"
            ]
          },
          "metadata": {
            "tags": []
          },
          "execution_count": 35
        }
      ]
    },
    {
      "cell_type": "code",
      "metadata": {
        "id": "rhhitwLN-tpQ",
        "colab_type": "code",
        "colab": {
          "base_uri": "https://localhost:8080/",
          "height": 33
        },
        "outputId": "4196155a-0cfd-479c-a11b-b2b5b87b928a"
      },
      "source": [
        "#Creating Set\n",
        "a={\"hfhf\",\"rb\",76767,\"rb\"}\n",
        "a"
      ],
      "execution_count": 36,
      "outputs": [
        {
          "output_type": "execute_result",
          "data": {
            "text/plain": [
              "{76767, 'hfhf', 'rb'}"
            ]
          },
          "metadata": {
            "tags": []
          },
          "execution_count": 36
        }
      ]
    },
    {
      "cell_type": "code",
      "metadata": {
        "id": "UNsMc9zm_X5p",
        "colab_type": "code",
        "colab": {
          "base_uri": "https://localhost:8080/",
          "height": 33
        },
        "outputId": "965e3bec-d2d3-40c4-e6ea-a044f154a194"
      },
      "source": [
        "name={\"fyiureyiyi\",83856858,4856,442,\"sohel\",\"rana\",\"sohel\"}\n",
        "z=set(name)\n",
        "z"
      ],
      "execution_count": 37,
      "outputs": [
        {
          "output_type": "execute_result",
          "data": {
            "text/plain": [
              "{442, 4856, 83856858, 'fyiureyiyi', 'rana', 'sohel'}"
            ]
          },
          "metadata": {
            "tags": []
          },
          "execution_count": 37
        }
      ]
    },
    {
      "cell_type": "code",
      "metadata": {
        "id": "imYw2zUz_q61",
        "colab_type": "code",
        "colab": {
          "base_uri": "https://localhost:8080/",
          "height": 33
        },
        "outputId": "9823a994-c043-4e89-ff62-3a7067bfc3b1"
      },
      "source": [
        "z.add(\"hfdhjgg\")\n",
        "z"
      ],
      "execution_count": 38,
      "outputs": [
        {
          "output_type": "execute_result",
          "data": {
            "text/plain": [
              "{442, 4856, 83856858, 'fyiureyiyi', 'hfdhjgg', 'rana', 'sohel'}"
            ]
          },
          "metadata": {
            "tags": []
          },
          "execution_count": 38
        }
      ]
    },
    {
      "cell_type": "code",
      "metadata": {
        "id": "IT37WZua_4Mm",
        "colab_type": "code",
        "colab": {
          "base_uri": "https://localhost:8080/",
          "height": 33
        },
        "outputId": "fd186820-b507-4f2f-b360-5daed9354869"
      },
      "source": [
        "z.remove(\"fyiureyiyi\")\n",
        "z"
      ],
      "execution_count": 39,
      "outputs": [
        {
          "output_type": "execute_result",
          "data": {
            "text/plain": [
              "{442, 4856, 83856858, 'hfdhjgg', 'rana', 'sohel'}"
            ]
          },
          "metadata": {
            "tags": []
          },
          "execution_count": 39
        }
      ]
    },
    {
      "cell_type": "code",
      "metadata": {
        "id": "qeYSLSiLA1Rh",
        "colab_type": "code",
        "colab": {}
      },
      "source": [
        "b={\"hfjjhjhf\",\"rhhb\",76767,\"r8787b\",\"sohel\"}"
      ],
      "execution_count": 40,
      "outputs": []
    },
    {
      "cell_type": "code",
      "metadata": {
        "id": "jDkWZC_oACrc",
        "colab_type": "code",
        "colab": {
          "base_uri": "https://localhost:8080/",
          "height": 33
        },
        "outputId": "69742c6c-ff07-4a00-b2cf-ea7eb453865e"
      },
      "source": [
        "c=z & b\n",
        "c"
      ],
      "execution_count": 41,
      "outputs": [
        {
          "output_type": "execute_result",
          "data": {
            "text/plain": [
              "{'sohel'}"
            ]
          },
          "metadata": {
            "tags": []
          },
          "execution_count": 41
        }
      ]
    },
    {
      "cell_type": "code",
      "metadata": {
        "id": "cXLzhTV-Apee",
        "colab_type": "code",
        "colab": {
          "base_uri": "https://localhost:8080/",
          "height": 184
        },
        "outputId": "9862dfe8-0408-4b63-c16c-8d9888e84cbf"
      },
      "source": [
        "d=z.union(b)\n",
        "d"
      ],
      "execution_count": 42,
      "outputs": [
        {
          "output_type": "execute_result",
          "data": {
            "text/plain": [
              "{442,\n",
              " 4856,\n",
              " 76767,\n",
              " 83856858,\n",
              " 'hfdhjgg',\n",
              " 'hfjjhjhf',\n",
              " 'r8787b',\n",
              " 'rana',\n",
              " 'rhhb',\n",
              " 'sohel'}"
            ]
          },
          "metadata": {
            "tags": []
          },
          "execution_count": 42
        }
      ]
    },
    {
      "cell_type": "code",
      "metadata": {
        "id": "1AqR-euhDuTv",
        "colab_type": "code",
        "colab": {}
      },
      "source": [
        "#Arithmatic function\n",
        "\n",
        "a=20\n",
        "b=5\n",
        "c=a+b\n",
        "d=a-b\n",
        "e=a/b\n",
        "f=a*b\n"
      ],
      "execution_count": 43,
      "outputs": []
    },
    {
      "cell_type": "code",
      "metadata": {
        "id": "IjoWn-02EjQs",
        "colab_type": "code",
        "colab": {
          "base_uri": "https://localhost:8080/",
          "height": 84
        },
        "outputId": "8e6300b7-7e17-4086-8c9f-7763f3c4f3bf"
      },
      "source": [
        "print(c)\n",
        "print(d)\n",
        "print(e)\n",
        "print(f)"
      ],
      "execution_count": 44,
      "outputs": [
        {
          "output_type": "stream",
          "text": [
            "25\n",
            "15\n",
            "4.0\n",
            "100\n"
          ],
          "name": "stdout"
        }
      ]
    },
    {
      "cell_type": "code",
      "metadata": {
        "id": "tY-gWQDEBkg0",
        "colab_type": "code",
        "colab": {
          "base_uri": "https://localhost:8080/",
          "height": 50
        },
        "outputId": "4c977cd6-a512-4948-d2b7-0e51b6c2beb6"
      },
      "source": [
        "#Conditions & Branching\n",
        "age=23\n",
        "if(age>=20):\n",
        "  print(\"You can Enter\")\n",
        "print(\"Move on\")"
      ],
      "execution_count": 45,
      "outputs": [
        {
          "output_type": "stream",
          "text": [
            "You can Enter\n",
            "Move on\n"
          ],
          "name": "stdout"
        }
      ]
    },
    {
      "cell_type": "code",
      "metadata": {
        "id": "uVkB8IdLCH-u",
        "colab_type": "code",
        "colab": {
          "base_uri": "https://localhost:8080/",
          "height": 50
        },
        "outputId": "4bb0f678-6050-4bce-9292-677c49c2d01d"
      },
      "source": [
        "age=18\n",
        "if(age>=20):\n",
        "  print(\"You can Enter\")\n",
        "else:\n",
        "  print(\"Your r not allowed\")\n",
        "print(\"Move on\")"
      ],
      "execution_count": 46,
      "outputs": [
        {
          "output_type": "stream",
          "text": [
            "Your r not allowed\n",
            "Move on\n"
          ],
          "name": "stdout"
        }
      ]
    },
    {
      "cell_type": "code",
      "metadata": {
        "id": "IGBgfx7RCiCL",
        "colab_type": "code",
        "colab": {
          "base_uri": "https://localhost:8080/",
          "height": 50
        },
        "outputId": "dd52a051-0b61-4408-b50f-5ee79230cf19"
      },
      "source": [
        "age=19\n",
        "if(age>=20):\n",
        "  print(\"You can Enter\")\n",
        "\n",
        "elif(age==19):\n",
        "  print(\"Go to Next level\")\n",
        "else:\n",
        "  print(\"Your r not allowed\")\n",
        "print(\"Move on\")"
      ],
      "execution_count": 47,
      "outputs": [
        {
          "output_type": "stream",
          "text": [
            "Go to Next level\n",
            "Move on\n"
          ],
          "name": "stdout"
        }
      ]
    },
    {
      "cell_type": "code",
      "metadata": {
        "id": "0g0Zg4PR_2LR",
        "colab_type": "code",
        "colab": {
          "base_uri": "https://localhost:8080/",
          "height": 50
        },
        "outputId": "9427b093-750d-4102-b5d3-d8dcfcec47ec"
      },
      "source": [
        "age=10\n",
        "if(age>=20):\n",
        "  print(\"You can Enter\")\n",
        "\n",
        "elif(age==19):\n",
        "  print(\"Go to Next level\")\n",
        "\n",
        "elif(age==10):\n",
        "  print(\"U r a kid\")\n",
        "else:\n",
        "  print(\"Your r not allowed\")\n",
        "\n",
        "print(\"Move on\")"
      ],
      "execution_count": 48,
      "outputs": [
        {
          "output_type": "stream",
          "text": [
            "U r a kid\n",
            "Move on\n"
          ],
          "name": "stdout"
        }
      ]
    },
    {
      "cell_type": "code",
      "metadata": {
        "id": "pdx8pjUpM1VM",
        "colab_type": "code",
        "colab": {}
      },
      "source": [
        "#Logical operator"
      ],
      "execution_count": 49,
      "outputs": []
    },
    {
      "cell_type": "code",
      "metadata": {
        "id": "a42PFml2DTpi",
        "colab_type": "code",
        "colab": {
          "base_uri": "https://localhost:8080/",
          "height": 33
        },
        "outputId": "372f808b-a12f-41f9-8a41-c9cb5f92bcc3"
      },
      "source": [
        "year=1997\n",
        "\n",
        "if (year>1979) or (year<2000):\n",
        "  print(\"That was made in 80's & 90's\")\n",
        "else:\n",
        "  print(\"That was made before 80's\")\n"
      ],
      "execution_count": 50,
      "outputs": [
        {
          "output_type": "stream",
          "text": [
            "That was made in 80's & 90's\n"
          ],
          "name": "stdout"
        }
      ]
    },
    {
      "cell_type": "code",
      "metadata": {
        "id": "WzTTqkf4Muks",
        "colab_type": "code",
        "colab": {
          "base_uri": "https://localhost:8080/",
          "height": 33
        },
        "outputId": "140ac1bc-ea2d-41ff-f402-abd20527b663"
      },
      "source": [
        "year=1969\n",
        "\n",
        "if (year>1979) and (year<2000):\n",
        "  print(\"That was made in 80's & 90's\")\n",
        "else:\n",
        "  print(\"That was made before 80's\")\n"
      ],
      "execution_count": 51,
      "outputs": [
        {
          "output_type": "stream",
          "text": [
            "That was made before 80's\n"
          ],
          "name": "stdout"
        }
      ]
    },
    {
      "cell_type": "code",
      "metadata": {
        "id": "tLl6qp6g98O9",
        "colab_type": "code",
        "colab": {
          "base_uri": "https://localhost:8080/",
          "height": 33
        },
        "outputId": "5d063a38-4354-46b8-cfdb-308d0a79cee7"
      },
      "source": [
        "#for loop\n",
        "a=[\"red\",\"green\",\"blue\",\"white\",\"black\"]\n",
        "len(a)"
      ],
      "execution_count": 52,
      "outputs": [
        {
          "output_type": "execute_result",
          "data": {
            "text/plain": [
              "5"
            ]
          },
          "metadata": {
            "tags": []
          },
          "execution_count": 52
        }
      ]
    },
    {
      "cell_type": "code",
      "metadata": {
        "id": "Jr7g4V2JPD6N",
        "colab_type": "code",
        "colab": {
          "base_uri": "https://localhost:8080/",
          "height": 33
        },
        "outputId": "6aa3254b-8639-40b6-ec19-5cdd13c07afd"
      },
      "source": [
        "for i in range(0,5):\n",
        "  a[i]=\"yellow\"\n",
        "\n",
        "print(a)\n"
      ],
      "execution_count": 53,
      "outputs": [
        {
          "output_type": "stream",
          "text": [
            "['yellow', 'yellow', 'yellow', 'yellow', 'yellow']\n"
          ],
          "name": "stdout"
        }
      ]
    },
    {
      "cell_type": "code",
      "metadata": {
        "id": "--PE6CpdPTXf",
        "colab_type": "code",
        "colab": {
          "base_uri": "https://localhost:8080/",
          "height": 33
        },
        "outputId": "048da12c-c57c-4436-dfac-9c90b2353b4a"
      },
      "source": [
        "#2nd way\n",
        "for i in a:\n",
        "  a\n",
        "\n",
        "print(a)"
      ],
      "execution_count": 54,
      "outputs": [
        {
          "output_type": "stream",
          "text": [
            "['yellow', 'yellow', 'yellow', 'yellow', 'yellow']\n"
          ],
          "name": "stdout"
        }
      ]
    },
    {
      "cell_type": "code",
      "metadata": {
        "id": "WHFChb6sP-0E",
        "colab_type": "code",
        "colab": {
          "base_uri": "https://localhost:8080/",
          "height": 33
        },
        "outputId": "f43a7a9c-a20a-4c5a-e44c-5840deaad98a"
      },
      "source": [
        "#while loop\n",
        "b=['black','black','black','orange','yellow', 'yellow', 'yellow', 'yellow', 'yellow']\n",
        "\n",
        "c=[]\n",
        "i=0\n",
        "\n",
        "\n",
        "while(b[i]=='black'):\n",
        "  c.append(b[i])\n",
        "  i=i+1\n",
        "\n",
        "c\n"
      ],
      "execution_count": 55,
      "outputs": [
        {
          "output_type": "execute_result",
          "data": {
            "text/plain": [
              "['black', 'black', 'black']"
            ]
          },
          "metadata": {
            "tags": []
          },
          "execution_count": 55
        }
      ]
    },
    {
      "cell_type": "code",
      "metadata": {
        "id": "_QrpNyYzTOpv",
        "colab_type": "code",
        "colab": {
          "base_uri": "https://localhost:8080/",
          "height": 33
        },
        "outputId": "e38e7fa5-1c46-4009-a591-e8d91f9a49cf"
      },
      "source": [
        "#sum functions, sorted vs sort\n",
        "z=[67,8787,89,54545,787,4343434]\n",
        "\n",
        "y=sum(z)\n",
        "y"
      ],
      "execution_count": 56,
      "outputs": [
        {
          "output_type": "execute_result",
          "data": {
            "text/plain": [
              "4407709"
            ]
          },
          "metadata": {
            "tags": []
          },
          "execution_count": 56
        }
      ]
    },
    {
      "cell_type": "code",
      "metadata": {
        "id": "AkyFa4eCTfDm",
        "colab_type": "code",
        "colab": {
          "base_uri": "https://localhost:8080/",
          "height": 33
        },
        "outputId": "d8e3b77b-aade-41a3-8fa6-43ab54410102"
      },
      "source": [
        "tt=sorted(z)\n",
        "tt"
      ],
      "execution_count": 57,
      "outputs": [
        {
          "output_type": "execute_result",
          "data": {
            "text/plain": [
              "[67, 89, 787, 8787, 54545, 4343434]"
            ]
          },
          "metadata": {
            "tags": []
          },
          "execution_count": 57
        }
      ]
    },
    {
      "cell_type": "code",
      "metadata": {
        "id": "nm5uecIETqKb",
        "colab_type": "code",
        "colab": {
          "base_uri": "https://localhost:8080/",
          "height": 33
        },
        "outputId": "ccacdf29-e2b2-4d6d-f0b2-bf6124e7c9f8"
      },
      "source": [
        "z.sort()\n",
        "z"
      ],
      "execution_count": 58,
      "outputs": [
        {
          "output_type": "execute_result",
          "data": {
            "text/plain": [
              "[67, 89, 787, 8787, 54545, 4343434]"
            ]
          },
          "metadata": {
            "tags": []
          },
          "execution_count": 58
        }
      ]
    },
    {
      "cell_type": "code",
      "metadata": {
        "id": "blzHH-8ST8Me",
        "colab_type": "code",
        "colab": {
          "base_uri": "https://localhost:8080/",
          "height": 50
        },
        "outputId": "3b618099-ec4d-458e-ea99-7e58278c34c5"
      },
      "source": [
        "#Creating Function\n",
        "def add(x):\n",
        "  y=x+1\n",
        "  print(x,\"Plus 1\",y)\n",
        "  return y\n",
        "\n",
        "\"\"\"print result\"\"\"\n",
        "z=add(123)\n",
        "print(z)"
      ],
      "execution_count": 59,
      "outputs": [
        {
          "output_type": "stream",
          "text": [
            "123 Plus 1 124\n",
            "124\n"
          ],
          "name": "stdout"
        }
      ]
    },
    {
      "cell_type": "code",
      "metadata": {
        "id": "-VRHfzAJ0kTv",
        "colab_type": "code",
        "colab": {
          "base_uri": "https://localhost:8080/",
          "height": 33
        },
        "outputId": "c57e2786-0529-4845-beb8-b077613e30e4"
      },
      "source": [
        "def sub(b):\n",
        "  a=b-1\n",
        "  return a\n",
        "\n",
        "c=sub(51)\n",
        "c"
      ],
      "execution_count": 60,
      "outputs": [
        {
          "output_type": "execute_result",
          "data": {
            "text/plain": [
              "50"
            ]
          },
          "metadata": {
            "tags": []
          },
          "execution_count": 60
        }
      ]
    },
    {
      "cell_type": "code",
      "metadata": {
        "id": "BrMu_k5S1jhv",
        "colab_type": "code",
        "colab": {
          "base_uri": "https://localhost:8080/",
          "height": 33
        },
        "outputId": "f95cd7d4-ee53-49ee-a5fe-4dc422d7a360"
      },
      "source": [
        "def multi(a,b):\n",
        "  y=a*b\n",
        "\n",
        "  return y\n",
        "\n",
        "multi(5,10)"
      ],
      "execution_count": 61,
      "outputs": [
        {
          "output_type": "execute_result",
          "data": {
            "text/plain": [
              "50"
            ]
          },
          "metadata": {
            "tags": []
          },
          "execution_count": 61
        }
      ]
    },
    {
      "cell_type": "code",
      "metadata": {
        "id": "UQ-0G-lV2T4d",
        "colab_type": "code",
        "colab": {
          "base_uri": "https://localhost:8080/",
          "height": 35
        },
        "outputId": "8e8cda0a-cff2-4b53-e731-118df19c5c5e"
      },
      "source": [
        "multi(5,\"Sohel\")"
      ],
      "execution_count": 62,
      "outputs": [
        {
          "output_type": "execute_result",
          "data": {
            "application/vnd.google.colaboratory.intrinsic+json": {
              "type": "string"
            },
            "text/plain": [
              "'SohelSohelSohelSohelSohel'"
            ]
          },
          "metadata": {
            "tags": []
          },
          "execution_count": 62
        }
      ]
    },
    {
      "cell_type": "code",
      "metadata": {
        "id": "N_oabKks12xv",
        "colab_type": "code",
        "colab": {
          "base_uri": "https://localhost:8080/",
          "height": 33
        },
        "outputId": "30170ec0-f407-4427-db1f-fa80236fe8b6"
      },
      "source": [
        "def div(b,a):\n",
        "  y=b/a\n",
        "\n",
        "  return y\n",
        "div(20,4)"
      ],
      "execution_count": 63,
      "outputs": [
        {
          "output_type": "execute_result",
          "data": {
            "text/plain": [
              "5.0"
            ]
          },
          "metadata": {
            "tags": []
          },
          "execution_count": 63
        }
      ]
    },
    {
      "cell_type": "code",
      "metadata": {
        "id": "E-3pEb6u2FbP",
        "colab_type": "code",
        "colab": {
          "base_uri": "https://localhost:8080/",
          "height": 117
        },
        "outputId": "d85887b9-9788-4c74-a1d9-3d978dd8eb15"
      },
      "source": [
        "results=[3.25,3.95,3.99,2.5,2.9,3.6]\n",
        "\n",
        "def Cgpa(b):\n",
        "  for i,s in enumerate (b):\n",
        "    print(\"id\",i,\"Cgpa\",s)\n",
        "z=Cgpa(results)\n",
        "\n",
        "z"
      ],
      "execution_count": 64,
      "outputs": [
        {
          "output_type": "stream",
          "text": [
            "id 0 Cgpa 3.25\n",
            "id 1 Cgpa 3.95\n",
            "id 2 Cgpa 3.99\n",
            "id 3 Cgpa 2.5\n",
            "id 4 Cgpa 2.9\n",
            "id 5 Cgpa 3.6\n"
          ],
          "name": "stdout"
        }
      ]
    },
    {
      "cell_type": "code",
      "metadata": {
        "id": "MfrqlHje2ODx",
        "colab_type": "code",
        "colab": {
          "base_uri": "https://localhost:8080/",
          "height": 33
        },
        "outputId": "fd89c86f-57da-4df9-c551-08914c673334"
      },
      "source": [
        "results=[3.25,3.95,3.99,2.5,2.9,3.6]\n",
        "#Collecting Arguments\n",
        "\n",
        "def rs(*results):\n",
        "\n",
        "  for i in results:\n",
        "    print (i)\n",
        "rs(results)"
      ],
      "execution_count": 65,
      "outputs": [
        {
          "output_type": "stream",
          "text": [
            "[3.25, 3.95, 3.99, 2.5, 2.9, 3.6]\n"
          ],
          "name": "stdout"
        }
      ]
    },
    {
      "cell_type": "code",
      "metadata": {
        "id": "Bd3kKrlwEsbE",
        "colab_type": "code",
        "colab": {
          "base_uri": "https://localhost:8080/",
          "height": 35
        },
        "outputId": "577822c3-7f8a-47df-c01d-1a15bdbb232d"
      },
      "source": [
        "#Scope\n",
        "\n",
        "\"\"\"global scope \"\"\"\n",
        "\n",
        "x=\"AC Current &\"\n",
        "def f(x):\n",
        "  \n",
        "  y=x+\" DC Current\"\n",
        "\n",
        "  return y\n",
        "\"\"\"Print result\"\"\"\n",
        "f(x)"
      ],
      "execution_count": 66,
      "outputs": [
        {
          "output_type": "execute_result",
          "data": {
            "application/vnd.google.colaboratory.intrinsic+json": {
              "type": "string"
            },
            "text/plain": [
              "'AC Current & DC Current'"
            ]
          },
          "metadata": {
            "tags": []
          },
          "execution_count": 66
        }
      ]
    },
    {
      "cell_type": "code",
      "metadata": {
        "id": "Tezdkl4yHZkI",
        "colab_type": "code",
        "colab": {
          "base_uri": "https://localhost:8080/",
          "height": 50
        },
        "outputId": "0a862dca-84d7-4d09-b748-df498e41c475"
      },
      "source": [
        "def a():\n",
        "  date=2016\n",
        "  \"\"\"local Varibales\"\"\"\n",
        "\n",
        "  return (date)\n",
        "\n",
        "\n",
        "\n",
        "\n",
        "\"\"\"Global Scope\"\"\"\n",
        "date=2020\n",
        "\n",
        "\n",
        "\n",
        "\"\"\"local Varibales\"\"\"\n",
        "print(a())\n",
        "\n",
        "\n",
        "\"\"\"Global variable\"\"\"\n",
        "print(date)"
      ],
      "execution_count": 67,
      "outputs": [
        {
          "output_type": "stream",
          "text": [
            "2016\n",
            "2020\n"
          ],
          "name": "stdout"
        }
      ]
    },
    {
      "cell_type": "code",
      "metadata": {
        "id": "X5ec2PQiKXXr",
        "colab_type": "code",
        "colab": {
          "base_uri": "https://localhost:8080/",
          "height": 50
        },
        "outputId": "27b3f2d5-c03c-4314-dcb8-031cc0fbaeac"
      },
      "source": [
        "def b():\n",
        "  global results\n",
        "  results=\"$1343 Billions\"\n",
        "\n",
        "  return results\n",
        "\n",
        "print(b())\n",
        "print(results)\n",
        "\n"
      ],
      "execution_count": 68,
      "outputs": [
        {
          "output_type": "stream",
          "text": [
            "$1343 Billions\n",
            "$1343 Billions\n"
          ],
          "name": "stdout"
        }
      ]
    },
    {
      "cell_type": "code",
      "metadata": {
        "id": "V8VD0b4GLA7u",
        "colab_type": "code",
        "colab": {
          "base_uri": "https://localhost:8080/",
          "height": 50
        },
        "outputId": "097b6ed9-9662-4a92-d239-7a3cc8dbbb3a"
      },
      "source": [
        "\"\"\"types method\"\"\"\n",
        "a=[3.25,3.95,3.99,2.5,2.9,3.6]\n",
        "\n",
        "a.reverse()\n",
        "print(a)\n",
        "a.sort()\n",
        "print(a)"
      ],
      "execution_count": 69,
      "outputs": [
        {
          "output_type": "stream",
          "text": [
            "[3.6, 2.9, 2.5, 3.99, 3.95, 3.25]\n",
            "[2.5, 2.9, 3.25, 3.6, 3.95, 3.99]\n"
          ],
          "name": "stdout"
        }
      ]
    },
    {
      "cell_type": "code",
      "metadata": {
        "id": "0CaCrFSFQ73p",
        "colab_type": "code",
        "colab": {}
      },
      "source": [
        "\"\"\"Create a class \"\"\"\n",
        "class circle(object):\n",
        "  def __init__(self,redius,color):\n",
        "    self.redius=redius;\n",
        "    self.color=color;\n",
        "\n",
        "  def add_redius(self,r):\n",
        "    self.redius=self.redius + r\n",
        "    return (self.redius)\n"
      ],
      "execution_count": 70,
      "outputs": []
    },
    {
      "cell_type": "code",
      "metadata": {
        "id": "F1mcChXySDST",
        "colab_type": "code",
        "colab": {
          "base_uri": "https://localhost:8080/",
          "height": 33
        },
        "outputId": "1216552b-9cd0-4f85-e861-cf41ef61e056"
      },
      "source": [
        "c=circle(20,\"GREEN\")\n",
        "c.redius\n"
      ],
      "execution_count": 71,
      "outputs": [
        {
          "output_type": "execute_result",
          "data": {
            "text/plain": [
              "20"
            ]
          },
          "metadata": {
            "tags": []
          },
          "execution_count": 71
        }
      ]
    },
    {
      "cell_type": "code",
      "metadata": {
        "id": "fgLOVM7qSXS3",
        "colab_type": "code",
        "colab": {
          "base_uri": "https://localhost:8080/",
          "height": 35
        },
        "outputId": "738a46dd-be94-4b4d-f635-d6e02cf35481"
      },
      "source": [
        "c.color"
      ],
      "execution_count": 72,
      "outputs": [
        {
          "output_type": "execute_result",
          "data": {
            "application/vnd.google.colaboratory.intrinsic+json": {
              "type": "string"
            },
            "text/plain": [
              "'GREEN'"
            ]
          },
          "metadata": {
            "tags": []
          },
          "execution_count": 72
        }
      ]
    },
    {
      "cell_type": "code",
      "metadata": {
        "id": "vuBHSrHMSecN",
        "colab_type": "code",
        "colab": {
          "base_uri": "https://localhost:8080/",
          "height": 33
        },
        "outputId": "b2e015e0-72ec-423b-b0c5-3d21b1ce2362"
      },
      "source": [
        "cd=c.add_redius(5)\n",
        "cd"
      ],
      "execution_count": 73,
      "outputs": [
        {
          "output_type": "execute_result",
          "data": {
            "text/plain": [
              "25"
            ]
          },
          "metadata": {
            "tags": []
          },
          "execution_count": 73
        }
      ]
    },
    {
      "cell_type": "code",
      "metadata": {
        "id": "FIlUoTO-Yrm1",
        "colab_type": "code",
        "colab": {}
      },
      "source": [
        ""
      ],
      "execution_count": 73,
      "outputs": []
    },
    {
      "cell_type": "code",
      "metadata": {
        "id": "McqY55cxVWMA",
        "colab_type": "code",
        "colab": {}
      },
      "source": [
        "class det(object):\n",
        "  def __init__(self,name,id,age,occupation,Religion,country):\n",
        "    self.name=name;\n",
        "    self.id=id;\n",
        "    self.age=age;\n",
        "    self.occupation=occupation;\n",
        "    self.Religion=Religion;\n",
        "    self.country=country;\n",
        "  def add_extra(self,x):\n",
        "    self.age=self.age+x\n",
        "    return(self.age)\n"
      ],
      "execution_count": 74,
      "outputs": []
    },
    {
      "cell_type": "code",
      "metadata": {
        "id": "1cAatr6EWtXN",
        "colab_type": "code",
        "colab": {}
      },
      "source": [
        "d=det(\"Sohel Rana\",16313451,23,\"AI Researcher\",\"Islam\",\"Bangladesh\")"
      ],
      "execution_count": 75,
      "outputs": []
    },
    {
      "cell_type": "code",
      "metadata": {
        "id": "GunCwqokXwi9",
        "colab_type": "code",
        "colab": {
          "base_uri": "https://localhost:8080/",
          "height": 35
        },
        "outputId": "eed88399-837d-4944-e505-70380dd7851c"
      },
      "source": [
        "d.name"
      ],
      "execution_count": 76,
      "outputs": [
        {
          "output_type": "execute_result",
          "data": {
            "application/vnd.google.colaboratory.intrinsic+json": {
              "type": "string"
            },
            "text/plain": [
              "'Sohel Rana'"
            ]
          },
          "metadata": {
            "tags": []
          },
          "execution_count": 76
        }
      ]
    },
    {
      "cell_type": "code",
      "metadata": {
        "id": "0_yaVy-3W_KE",
        "colab_type": "code",
        "colab": {
          "base_uri": "https://localhost:8080/",
          "height": 33
        },
        "outputId": "ac33684f-1af9-4f35-a8c4-2b1d17bbe032"
      },
      "source": [
        "d.id"
      ],
      "execution_count": 77,
      "outputs": [
        {
          "output_type": "execute_result",
          "data": {
            "text/plain": [
              "16313451"
            ]
          },
          "metadata": {
            "tags": []
          },
          "execution_count": 77
        }
      ]
    },
    {
      "cell_type": "code",
      "metadata": {
        "id": "u3eOoYlNXvGY",
        "colab_type": "code",
        "colab": {
          "base_uri": "https://localhost:8080/",
          "height": 35
        },
        "outputId": "2824d0a6-1993-415f-fd5d-7edf2b23cd10"
      },
      "source": [
        "d.occupation"
      ],
      "execution_count": 78,
      "outputs": [
        {
          "output_type": "execute_result",
          "data": {
            "application/vnd.google.colaboratory.intrinsic+json": {
              "type": "string"
            },
            "text/plain": [
              "'AI Researcher'"
            ]
          },
          "metadata": {
            "tags": []
          },
          "execution_count": 78
        }
      ]
    },
    {
      "cell_type": "code",
      "metadata": {
        "id": "hQ7uGspyX6hW",
        "colab_type": "code",
        "colab": {
          "base_uri": "https://localhost:8080/",
          "height": 35
        },
        "outputId": "b0ef311f-28dd-4c48-d330-14aeb8e2be0e"
      },
      "source": [
        "d.Religion"
      ],
      "execution_count": 79,
      "outputs": [
        {
          "output_type": "execute_result",
          "data": {
            "application/vnd.google.colaboratory.intrinsic+json": {
              "type": "string"
            },
            "text/plain": [
              "'Islam'"
            ]
          },
          "metadata": {
            "tags": []
          },
          "execution_count": 79
        }
      ]
    },
    {
      "cell_type": "code",
      "metadata": {
        "id": "ydSOh2ULX8pu",
        "colab_type": "code",
        "colab": {
          "base_uri": "https://localhost:8080/",
          "height": 35
        },
        "outputId": "00fecafd-5874-4e95-cef7-7c58c2f26d56"
      },
      "source": [
        "d.country"
      ],
      "execution_count": 80,
      "outputs": [
        {
          "output_type": "execute_result",
          "data": {
            "application/vnd.google.colaboratory.intrinsic+json": {
              "type": "string"
            },
            "text/plain": [
              "'Bangladesh'"
            ]
          },
          "metadata": {
            "tags": []
          },
          "execution_count": 80
        }
      ]
    }
  ]
}