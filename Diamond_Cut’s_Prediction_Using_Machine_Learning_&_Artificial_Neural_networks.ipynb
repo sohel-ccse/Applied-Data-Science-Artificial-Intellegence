{
  "nbformat": 4,
  "nbformat_minor": 0,
  "metadata": {
    "colab": {
      "name": "Diamond Cut’s Prediction Using Machine Learning & Artificial Neural networks",
      "provenance": [],
      "collapsed_sections": []
    },
    "kernelspec": {
      "name": "python3",
      "display_name": "Python 3"
    }
  },
  "cells": [
    {
      "cell_type": "code",
      "metadata": {
        "id": "go10U9JrZNWN",
        "colab_type": "code",
        "colab": {
          "resources": {
            "http://localhost:8080/nbextensions/google.colab/files.js": {
              "data": "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",
              "ok": true,
              "headers": [
                [
                  "content-type",
                  "application/javascript"
                ]
              ],
              "status": 200,
              "status_text": ""
            }
          },
          "base_uri": "https://localhost:8080/",
          "height": 73
        },
        "outputId": "a8f6c225-8a75-4fd8-ba90-84848d36f960"
      },
      "source": [
        "from google.colab import files\n",
        "data_to_load = files.upload()"
      ],
      "execution_count": null,
      "outputs": [
        {
          "output_type": "display_data",
          "data": {
            "text/html": [
              "\n",
              "     <input type=\"file\" id=\"files-c522a7ec-1c41-4c57-9a60-0fc2a844b06f\" name=\"files[]\" multiple disabled\n",
              "        style=\"border:none\" />\n",
              "     <output id=\"result-c522a7ec-1c41-4c57-9a60-0fc2a844b06f\">\n",
              "      Upload widget is only available when the cell has been executed in the\n",
              "      current browser session. Please rerun this cell to enable.\n",
              "      </output>\n",
              "      <script src=\"/nbextensions/google.colab/files.js\"></script> "
            ],
            "text/plain": [
              "<IPython.core.display.HTML object>"
            ]
          },
          "metadata": {
            "tags": []
          }
        },
        {
          "output_type": "stream",
          "text": [
            "Saving diamonds.csv to diamonds (2).csv\n"
          ],
          "name": "stdout"
        }
      ]
    },
    {
      "cell_type": "code",
      "metadata": {
        "id": "sX8KMP36ZRV1",
        "colab_type": "code",
        "colab": {}
      },
      "source": [
        "#Machine Learning Algorithm(Support Vector Machine,Random forest, XGBoost Classifier, KNN)\n",
        "#Deep learning -> Artificial Nueral Networks(ANN)"
      ],
      "execution_count": null,
      "outputs": []
    },
    {
      "cell_type": "code",
      "metadata": {
        "id": "ghUCp_v7Zbw4",
        "colab_type": "code",
        "colab": {}
      },
      "source": [
        "import numpy as np # linear algebra\n",
        "import pandas as pd # data processing, CSV file I/O (e.g. pd.read_csv)\n",
        "\n",
        "# Input data files are available in the read-only \"../input/\" directory\n",
        "# For example, running this (by clicking run or pressing Shift+Enter) will list all files under the input directory\n",
        "\n",
        "import matplotlib.pyplot as plt\n",
        "import numpy as np\n",
        "%matplotlib inline\n",
        "import os"
      ],
      "execution_count": null,
      "outputs": []
    },
    {
      "cell_type": "code",
      "metadata": {
        "id": "HxzTVirLZel_",
        "colab_type": "code",
        "colab": {}
      },
      "source": [
        "df=pd.read_csv('diamonds.csv')"
      ],
      "execution_count": null,
      "outputs": []
    },
    {
      "cell_type": "code",
      "metadata": {
        "id": "yQyPgo5QZkBm",
        "colab_type": "code",
        "colab": {
          "base_uri": "https://localhost:8080/",
          "height": 67
        },
        "outputId": "f5bd30b1-d4a7-4d06-b42a-170673a97608"
      },
      "source": [
        "df.keys()"
      ],
      "execution_count": null,
      "outputs": [
        {
          "output_type": "execute_result",
          "data": {
            "text/plain": [
              "Index(['Unnamed: 0', 'carat', 'cut', 'color', 'clarity', 'depth', 'table',\n",
              "       'price', 'x', 'y', 'z'],\n",
              "      dtype='object')"
            ]
          },
          "metadata": {
            "tags": []
          },
          "execution_count": 5
        }
      ]
    },
    {
      "cell_type": "code",
      "metadata": {
        "id": "v3NCNmQ3iFEw",
        "colab_type": "code",
        "colab": {}
      },
      "source": [
        "df=df.iloc[:, 1:10]"
      ],
      "execution_count": null,
      "outputs": []
    },
    {
      "cell_type": "code",
      "metadata": {
        "id": "fQ_wyzlmZmwe",
        "colab_type": "code",
        "colab": {}
      },
      "source": [
        "#Data Visualization, Explotary Analysis & Data Pre-processing"
      ],
      "execution_count": null,
      "outputs": []
    },
    {
      "cell_type": "code",
      "metadata": {
        "id": "LjwvEtnFZsOH",
        "colab_type": "code",
        "colab": {
          "base_uri": "https://localhost:8080/",
          "height": 345
        },
        "outputId": "8d75dec5-4a3d-43e1-ea6a-4154bc762684"
      },
      "source": [
        "df.head(n=10)"
      ],
      "execution_count": null,
      "outputs": [
        {
          "output_type": "execute_result",
          "data": {
            "text/html": [
              "<div>\n",
              "<style scoped>\n",
              "    .dataframe tbody tr th:only-of-type {\n",
              "        vertical-align: middle;\n",
              "    }\n",
              "\n",
              "    .dataframe tbody tr th {\n",
              "        vertical-align: top;\n",
              "    }\n",
              "\n",
              "    .dataframe thead th {\n",
              "        text-align: right;\n",
              "    }\n",
              "</style>\n",
              "<table border=\"1\" class=\"dataframe\">\n",
              "  <thead>\n",
              "    <tr style=\"text-align: right;\">\n",
              "      <th></th>\n",
              "      <th>carat</th>\n",
              "      <th>cut</th>\n",
              "      <th>color</th>\n",
              "      <th>clarity</th>\n",
              "      <th>depth</th>\n",
              "      <th>table</th>\n",
              "      <th>price</th>\n",
              "      <th>x</th>\n",
              "      <th>y</th>\n",
              "    </tr>\n",
              "  </thead>\n",
              "  <tbody>\n",
              "    <tr>\n",
              "      <th>0</th>\n",
              "      <td>0.23</td>\n",
              "      <td>Ideal</td>\n",
              "      <td>E</td>\n",
              "      <td>SI2</td>\n",
              "      <td>61.5</td>\n",
              "      <td>55.0</td>\n",
              "      <td>326</td>\n",
              "      <td>3.95</td>\n",
              "      <td>3.98</td>\n",
              "    </tr>\n",
              "    <tr>\n",
              "      <th>1</th>\n",
              "      <td>0.21</td>\n",
              "      <td>Premium</td>\n",
              "      <td>E</td>\n",
              "      <td>SI1</td>\n",
              "      <td>59.8</td>\n",
              "      <td>61.0</td>\n",
              "      <td>326</td>\n",
              "      <td>3.89</td>\n",
              "      <td>3.84</td>\n",
              "    </tr>\n",
              "    <tr>\n",
              "      <th>2</th>\n",
              "      <td>0.23</td>\n",
              "      <td>Good</td>\n",
              "      <td>E</td>\n",
              "      <td>VS1</td>\n",
              "      <td>56.9</td>\n",
              "      <td>65.0</td>\n",
              "      <td>327</td>\n",
              "      <td>4.05</td>\n",
              "      <td>4.07</td>\n",
              "    </tr>\n",
              "    <tr>\n",
              "      <th>3</th>\n",
              "      <td>0.29</td>\n",
              "      <td>Premium</td>\n",
              "      <td>I</td>\n",
              "      <td>VS2</td>\n",
              "      <td>62.4</td>\n",
              "      <td>58.0</td>\n",
              "      <td>334</td>\n",
              "      <td>4.20</td>\n",
              "      <td>4.23</td>\n",
              "    </tr>\n",
              "    <tr>\n",
              "      <th>4</th>\n",
              "      <td>0.31</td>\n",
              "      <td>Good</td>\n",
              "      <td>J</td>\n",
              "      <td>SI2</td>\n",
              "      <td>63.3</td>\n",
              "      <td>58.0</td>\n",
              "      <td>335</td>\n",
              "      <td>4.34</td>\n",
              "      <td>4.35</td>\n",
              "    </tr>\n",
              "    <tr>\n",
              "      <th>5</th>\n",
              "      <td>0.24</td>\n",
              "      <td>Very Good</td>\n",
              "      <td>J</td>\n",
              "      <td>VVS2</td>\n",
              "      <td>62.8</td>\n",
              "      <td>57.0</td>\n",
              "      <td>336</td>\n",
              "      <td>3.94</td>\n",
              "      <td>3.96</td>\n",
              "    </tr>\n",
              "    <tr>\n",
              "      <th>6</th>\n",
              "      <td>0.24</td>\n",
              "      <td>Very Good</td>\n",
              "      <td>I</td>\n",
              "      <td>VVS1</td>\n",
              "      <td>62.3</td>\n",
              "      <td>57.0</td>\n",
              "      <td>336</td>\n",
              "      <td>3.95</td>\n",
              "      <td>3.98</td>\n",
              "    </tr>\n",
              "    <tr>\n",
              "      <th>7</th>\n",
              "      <td>0.26</td>\n",
              "      <td>Very Good</td>\n",
              "      <td>H</td>\n",
              "      <td>SI1</td>\n",
              "      <td>61.9</td>\n",
              "      <td>55.0</td>\n",
              "      <td>337</td>\n",
              "      <td>4.07</td>\n",
              "      <td>4.11</td>\n",
              "    </tr>\n",
              "    <tr>\n",
              "      <th>8</th>\n",
              "      <td>0.22</td>\n",
              "      <td>Fair</td>\n",
              "      <td>E</td>\n",
              "      <td>VS2</td>\n",
              "      <td>65.1</td>\n",
              "      <td>61.0</td>\n",
              "      <td>337</td>\n",
              "      <td>3.87</td>\n",
              "      <td>3.78</td>\n",
              "    </tr>\n",
              "    <tr>\n",
              "      <th>9</th>\n",
              "      <td>0.23</td>\n",
              "      <td>Very Good</td>\n",
              "      <td>H</td>\n",
              "      <td>VS1</td>\n",
              "      <td>59.4</td>\n",
              "      <td>61.0</td>\n",
              "      <td>338</td>\n",
              "      <td>4.00</td>\n",
              "      <td>4.05</td>\n",
              "    </tr>\n",
              "  </tbody>\n",
              "</table>\n",
              "</div>"
            ],
            "text/plain": [
              "   carat        cut color clarity  depth  table  price     x     y\n",
              "0   0.23      Ideal     E     SI2   61.5   55.0    326  3.95  3.98\n",
              "1   0.21    Premium     E     SI1   59.8   61.0    326  3.89  3.84\n",
              "2   0.23       Good     E     VS1   56.9   65.0    327  4.05  4.07\n",
              "3   0.29    Premium     I     VS2   62.4   58.0    334  4.20  4.23\n",
              "4   0.31       Good     J     SI2   63.3   58.0    335  4.34  4.35\n",
              "5   0.24  Very Good     J    VVS2   62.8   57.0    336  3.94  3.96\n",
              "6   0.24  Very Good     I    VVS1   62.3   57.0    336  3.95  3.98\n",
              "7   0.26  Very Good     H     SI1   61.9   55.0    337  4.07  4.11\n",
              "8   0.22       Fair     E     VS2   65.1   61.0    337  3.87  3.78\n",
              "9   0.23  Very Good     H     VS1   59.4   61.0    338  4.00  4.05"
            ]
          },
          "metadata": {
            "tags": []
          },
          "execution_count": 8
        }
      ]
    },
    {
      "cell_type": "code",
      "metadata": {
        "id": "QZI7qjKShDwZ",
        "colab_type": "code",
        "colab": {
          "base_uri": "https://localhost:8080/",
          "height": 286
        },
        "outputId": "7df5072f-5150-40e9-89fa-89c52310bb64"
      },
      "source": [
        "df.describe()"
      ],
      "execution_count": null,
      "outputs": [
        {
          "output_type": "execute_result",
          "data": {
            "text/html": [
              "<div>\n",
              "<style scoped>\n",
              "    .dataframe tbody tr th:only-of-type {\n",
              "        vertical-align: middle;\n",
              "    }\n",
              "\n",
              "    .dataframe tbody tr th {\n",
              "        vertical-align: top;\n",
              "    }\n",
              "\n",
              "    .dataframe thead th {\n",
              "        text-align: right;\n",
              "    }\n",
              "</style>\n",
              "<table border=\"1\" class=\"dataframe\">\n",
              "  <thead>\n",
              "    <tr style=\"text-align: right;\">\n",
              "      <th></th>\n",
              "      <th>carat</th>\n",
              "      <th>depth</th>\n",
              "      <th>table</th>\n",
              "      <th>price</th>\n",
              "      <th>x</th>\n",
              "      <th>y</th>\n",
              "    </tr>\n",
              "  </thead>\n",
              "  <tbody>\n",
              "    <tr>\n",
              "      <th>count</th>\n",
              "      <td>53940.000000</td>\n",
              "      <td>53940.000000</td>\n",
              "      <td>53940.000000</td>\n",
              "      <td>53940.000000</td>\n",
              "      <td>53940.000000</td>\n",
              "      <td>53940.000000</td>\n",
              "    </tr>\n",
              "    <tr>\n",
              "      <th>mean</th>\n",
              "      <td>0.797940</td>\n",
              "      <td>61.749405</td>\n",
              "      <td>57.457184</td>\n",
              "      <td>3932.799722</td>\n",
              "      <td>5.731157</td>\n",
              "      <td>5.734526</td>\n",
              "    </tr>\n",
              "    <tr>\n",
              "      <th>std</th>\n",
              "      <td>0.474011</td>\n",
              "      <td>1.432621</td>\n",
              "      <td>2.234491</td>\n",
              "      <td>3989.439738</td>\n",
              "      <td>1.121761</td>\n",
              "      <td>1.142135</td>\n",
              "    </tr>\n",
              "    <tr>\n",
              "      <th>min</th>\n",
              "      <td>0.200000</td>\n",
              "      <td>43.000000</td>\n",
              "      <td>43.000000</td>\n",
              "      <td>326.000000</td>\n",
              "      <td>0.000000</td>\n",
              "      <td>0.000000</td>\n",
              "    </tr>\n",
              "    <tr>\n",
              "      <th>25%</th>\n",
              "      <td>0.400000</td>\n",
              "      <td>61.000000</td>\n",
              "      <td>56.000000</td>\n",
              "      <td>950.000000</td>\n",
              "      <td>4.710000</td>\n",
              "      <td>4.720000</td>\n",
              "    </tr>\n",
              "    <tr>\n",
              "      <th>50%</th>\n",
              "      <td>0.700000</td>\n",
              "      <td>61.800000</td>\n",
              "      <td>57.000000</td>\n",
              "      <td>2401.000000</td>\n",
              "      <td>5.700000</td>\n",
              "      <td>5.710000</td>\n",
              "    </tr>\n",
              "    <tr>\n",
              "      <th>75%</th>\n",
              "      <td>1.040000</td>\n",
              "      <td>62.500000</td>\n",
              "      <td>59.000000</td>\n",
              "      <td>5324.250000</td>\n",
              "      <td>6.540000</td>\n",
              "      <td>6.540000</td>\n",
              "    </tr>\n",
              "    <tr>\n",
              "      <th>max</th>\n",
              "      <td>5.010000</td>\n",
              "      <td>79.000000</td>\n",
              "      <td>95.000000</td>\n",
              "      <td>18823.000000</td>\n",
              "      <td>10.740000</td>\n",
              "      <td>58.900000</td>\n",
              "    </tr>\n",
              "  </tbody>\n",
              "</table>\n",
              "</div>"
            ],
            "text/plain": [
              "              carat         depth  ...             x             y\n",
              "count  53940.000000  53940.000000  ...  53940.000000  53940.000000\n",
              "mean       0.797940     61.749405  ...      5.731157      5.734526\n",
              "std        0.474011      1.432621  ...      1.121761      1.142135\n",
              "min        0.200000     43.000000  ...      0.000000      0.000000\n",
              "25%        0.400000     61.000000  ...      4.710000      4.720000\n",
              "50%        0.700000     61.800000  ...      5.700000      5.710000\n",
              "75%        1.040000     62.500000  ...      6.540000      6.540000\n",
              "max        5.010000     79.000000  ...     10.740000     58.900000\n",
              "\n",
              "[8 rows x 6 columns]"
            ]
          },
          "metadata": {
            "tags": []
          },
          "execution_count": 9
        }
      ]
    },
    {
      "cell_type": "code",
      "metadata": {
        "id": "4yxZgKxYiisx",
        "colab_type": "code",
        "colab": {
          "base_uri": "https://localhost:8080/",
          "height": 284
        },
        "outputId": "e30103c8-c6ae-44be-8df4-b3650339ad8a"
      },
      "source": [
        "df.info()"
      ],
      "execution_count": null,
      "outputs": [
        {
          "output_type": "stream",
          "text": [
            "<class 'pandas.core.frame.DataFrame'>\n",
            "RangeIndex: 53940 entries, 0 to 53939\n",
            "Data columns (total 9 columns):\n",
            " #   Column   Non-Null Count  Dtype  \n",
            "---  ------   --------------  -----  \n",
            " 0   carat    53940 non-null  float64\n",
            " 1   cut      53940 non-null  object \n",
            " 2   color    53940 non-null  object \n",
            " 3   clarity  53940 non-null  object \n",
            " 4   depth    53940 non-null  float64\n",
            " 5   table    53940 non-null  float64\n",
            " 6   price    53940 non-null  int64  \n",
            " 7   x        53940 non-null  float64\n",
            " 8   y        53940 non-null  float64\n",
            "dtypes: float64(5), int64(1), object(3)\n",
            "memory usage: 3.7+ MB\n"
          ],
          "name": "stdout"
        }
      ]
    },
    {
      "cell_type": "code",
      "metadata": {
        "id": "SXGv9KSUip32",
        "colab_type": "code",
        "colab": {}
      },
      "source": [
        "from sklearn.preprocessing import LabelEncoder\n",
        "from collections import defaultdict\n",
        "d = defaultdict(LabelEncoder)"
      ],
      "execution_count": null,
      "outputs": []
    },
    {
      "cell_type": "code",
      "metadata": {
        "id": "xqX59G87i7nd",
        "colab_type": "code",
        "colab": {
          "base_uri": "https://localhost:8080/",
          "height": 196
        },
        "outputId": "55722ac2-ccd7-4e0c-9fcb-05d6aa451d33"
      },
      "source": [
        "# Encoding the variable\n",
        "fit = df.apply(lambda x: d[x.name].fit_transform(x))\n",
        "\n",
        "# Inverse the encoded\n",
        "fit.apply(lambda x: d[x.name].inverse_transform(x))\n",
        "\n",
        "# Using the dictionary to label future data\n",
        "df=df.apply(lambda x: d[x.name].transform(x))\n",
        "df.head()"
      ],
      "execution_count": null,
      "outputs": [
        {
          "output_type": "execute_result",
          "data": {
            "text/html": [
              "<div>\n",
              "<style scoped>\n",
              "    .dataframe tbody tr th:only-of-type {\n",
              "        vertical-align: middle;\n",
              "    }\n",
              "\n",
              "    .dataframe tbody tr th {\n",
              "        vertical-align: top;\n",
              "    }\n",
              "\n",
              "    .dataframe thead th {\n",
              "        text-align: right;\n",
              "    }\n",
              "</style>\n",
              "<table border=\"1\" class=\"dataframe\">\n",
              "  <thead>\n",
              "    <tr style=\"text-align: right;\">\n",
              "      <th></th>\n",
              "      <th>carat</th>\n",
              "      <th>cut</th>\n",
              "      <th>color</th>\n",
              "      <th>clarity</th>\n",
              "      <th>depth</th>\n",
              "      <th>table</th>\n",
              "      <th>price</th>\n",
              "      <th>x</th>\n",
              "      <th>y</th>\n",
              "    </tr>\n",
              "  </thead>\n",
              "  <tbody>\n",
              "    <tr>\n",
              "      <th>0</th>\n",
              "      <td>3</td>\n",
              "      <td>2</td>\n",
              "      <td>1</td>\n",
              "      <td>3</td>\n",
              "      <td>83</td>\n",
              "      <td>30</td>\n",
              "      <td>0</td>\n",
              "      <td>20</td>\n",
              "      <td>26</td>\n",
              "    </tr>\n",
              "    <tr>\n",
              "      <th>1</th>\n",
              "      <td>1</td>\n",
              "      <td>3</td>\n",
              "      <td>1</td>\n",
              "      <td>2</td>\n",
              "      <td>66</td>\n",
              "      <td>90</td>\n",
              "      <td>0</td>\n",
              "      <td>14</td>\n",
              "      <td>12</td>\n",
              "    </tr>\n",
              "    <tr>\n",
              "      <th>2</th>\n",
              "      <td>3</td>\n",
              "      <td>1</td>\n",
              "      <td>1</td>\n",
              "      <td>4</td>\n",
              "      <td>37</td>\n",
              "      <td>115</td>\n",
              "      <td>1</td>\n",
              "      <td>30</td>\n",
              "      <td>35</td>\n",
              "    </tr>\n",
              "    <tr>\n",
              "      <th>3</th>\n",
              "      <td>9</td>\n",
              "      <td>3</td>\n",
              "      <td>5</td>\n",
              "      <td>5</td>\n",
              "      <td>92</td>\n",
              "      <td>60</td>\n",
              "      <td>2</td>\n",
              "      <td>45</td>\n",
              "      <td>51</td>\n",
              "    </tr>\n",
              "    <tr>\n",
              "      <th>4</th>\n",
              "      <td>11</td>\n",
              "      <td>1</td>\n",
              "      <td>6</td>\n",
              "      <td>3</td>\n",
              "      <td>101</td>\n",
              "      <td>60</td>\n",
              "      <td>3</td>\n",
              "      <td>59</td>\n",
              "      <td>63</td>\n",
              "    </tr>\n",
              "  </tbody>\n",
              "</table>\n",
              "</div>"
            ],
            "text/plain": [
              "   carat  cut  color  clarity  depth  table  price   x   y\n",
              "0      3    2      1        3     83     30      0  20  26\n",
              "1      1    3      1        2     66     90      0  14  12\n",
              "2      3    1      1        4     37    115      1  30  35\n",
              "3      9    3      5        5     92     60      2  45  51\n",
              "4     11    1      6        3    101     60      3  59  63"
            ]
          },
          "metadata": {
            "tags": []
          },
          "execution_count": 12
        }
      ]
    },
    {
      "cell_type": "code",
      "metadata": {
        "id": "GfHsUzeNi8xO",
        "colab_type": "code",
        "colab": {}
      },
      "source": [
        "cut=df['cut']"
      ],
      "execution_count": null,
      "outputs": []
    },
    {
      "cell_type": "code",
      "metadata": {
        "id": "jsO0VNv3jJ7B",
        "colab_type": "code",
        "colab": {}
      },
      "source": [
        "df=df.drop(\"cut\",axis=1)"
      ],
      "execution_count": null,
      "outputs": []
    },
    {
      "cell_type": "code",
      "metadata": {
        "id": "QZmT5DJBjexI",
        "colab_type": "code",
        "colab": {
          "base_uri": "https://localhost:8080/",
          "height": 196
        },
        "outputId": "43637759-ddba-4fc5-e2a3-2dcbe411662b"
      },
      "source": [
        "df.head()"
      ],
      "execution_count": null,
      "outputs": [
        {
          "output_type": "execute_result",
          "data": {
            "text/html": [
              "<div>\n",
              "<style scoped>\n",
              "    .dataframe tbody tr th:only-of-type {\n",
              "        vertical-align: middle;\n",
              "    }\n",
              "\n",
              "    .dataframe tbody tr th {\n",
              "        vertical-align: top;\n",
              "    }\n",
              "\n",
              "    .dataframe thead th {\n",
              "        text-align: right;\n",
              "    }\n",
              "</style>\n",
              "<table border=\"1\" class=\"dataframe\">\n",
              "  <thead>\n",
              "    <tr style=\"text-align: right;\">\n",
              "      <th></th>\n",
              "      <th>carat</th>\n",
              "      <th>color</th>\n",
              "      <th>clarity</th>\n",
              "      <th>depth</th>\n",
              "      <th>table</th>\n",
              "      <th>price</th>\n",
              "      <th>x</th>\n",
              "      <th>y</th>\n",
              "    </tr>\n",
              "  </thead>\n",
              "  <tbody>\n",
              "    <tr>\n",
              "      <th>0</th>\n",
              "      <td>3</td>\n",
              "      <td>1</td>\n",
              "      <td>3</td>\n",
              "      <td>83</td>\n",
              "      <td>30</td>\n",
              "      <td>0</td>\n",
              "      <td>20</td>\n",
              "      <td>26</td>\n",
              "    </tr>\n",
              "    <tr>\n",
              "      <th>1</th>\n",
              "      <td>1</td>\n",
              "      <td>1</td>\n",
              "      <td>2</td>\n",
              "      <td>66</td>\n",
              "      <td>90</td>\n",
              "      <td>0</td>\n",
              "      <td>14</td>\n",
              "      <td>12</td>\n",
              "    </tr>\n",
              "    <tr>\n",
              "      <th>2</th>\n",
              "      <td>3</td>\n",
              "      <td>1</td>\n",
              "      <td>4</td>\n",
              "      <td>37</td>\n",
              "      <td>115</td>\n",
              "      <td>1</td>\n",
              "      <td>30</td>\n",
              "      <td>35</td>\n",
              "    </tr>\n",
              "    <tr>\n",
              "      <th>3</th>\n",
              "      <td>9</td>\n",
              "      <td>5</td>\n",
              "      <td>5</td>\n",
              "      <td>92</td>\n",
              "      <td>60</td>\n",
              "      <td>2</td>\n",
              "      <td>45</td>\n",
              "      <td>51</td>\n",
              "    </tr>\n",
              "    <tr>\n",
              "      <th>4</th>\n",
              "      <td>11</td>\n",
              "      <td>6</td>\n",
              "      <td>3</td>\n",
              "      <td>101</td>\n",
              "      <td>60</td>\n",
              "      <td>3</td>\n",
              "      <td>59</td>\n",
              "      <td>63</td>\n",
              "    </tr>\n",
              "  </tbody>\n",
              "</table>\n",
              "</div>"
            ],
            "text/plain": [
              "   carat  color  clarity  depth  table  price   x   y\n",
              "0      3      1        3     83     30      0  20  26\n",
              "1      1      1        2     66     90      0  14  12\n",
              "2      3      1        4     37    115      1  30  35\n",
              "3      9      5        5     92     60      2  45  51\n",
              "4     11      6        3    101     60      3  59  63"
            ]
          },
          "metadata": {
            "tags": []
          },
          "execution_count": 15
        }
      ]
    },
    {
      "cell_type": "code",
      "metadata": {
        "id": "g9T4hSKCjYSN",
        "colab_type": "code",
        "colab": {}
      },
      "source": [
        "df['cut']=cut"
      ],
      "execution_count": null,
      "outputs": []
    },
    {
      "cell_type": "code",
      "metadata": {
        "id": "AlZ2cNfojpPx",
        "colab_type": "code",
        "colab": {
          "base_uri": "https://localhost:8080/",
          "height": 196
        },
        "outputId": "36f4b6dd-2935-4a3b-a69a-17bf53a66b5c"
      },
      "source": [
        "df.head()"
      ],
      "execution_count": null,
      "outputs": [
        {
          "output_type": "execute_result",
          "data": {
            "text/html": [
              "<div>\n",
              "<style scoped>\n",
              "    .dataframe tbody tr th:only-of-type {\n",
              "        vertical-align: middle;\n",
              "    }\n",
              "\n",
              "    .dataframe tbody tr th {\n",
              "        vertical-align: top;\n",
              "    }\n",
              "\n",
              "    .dataframe thead th {\n",
              "        text-align: right;\n",
              "    }\n",
              "</style>\n",
              "<table border=\"1\" class=\"dataframe\">\n",
              "  <thead>\n",
              "    <tr style=\"text-align: right;\">\n",
              "      <th></th>\n",
              "      <th>carat</th>\n",
              "      <th>color</th>\n",
              "      <th>clarity</th>\n",
              "      <th>depth</th>\n",
              "      <th>table</th>\n",
              "      <th>price</th>\n",
              "      <th>x</th>\n",
              "      <th>y</th>\n",
              "      <th>cut</th>\n",
              "    </tr>\n",
              "  </thead>\n",
              "  <tbody>\n",
              "    <tr>\n",
              "      <th>0</th>\n",
              "      <td>3</td>\n",
              "      <td>1</td>\n",
              "      <td>3</td>\n",
              "      <td>83</td>\n",
              "      <td>30</td>\n",
              "      <td>0</td>\n",
              "      <td>20</td>\n",
              "      <td>26</td>\n",
              "      <td>2</td>\n",
              "    </tr>\n",
              "    <tr>\n",
              "      <th>1</th>\n",
              "      <td>1</td>\n",
              "      <td>1</td>\n",
              "      <td>2</td>\n",
              "      <td>66</td>\n",
              "      <td>90</td>\n",
              "      <td>0</td>\n",
              "      <td>14</td>\n",
              "      <td>12</td>\n",
              "      <td>3</td>\n",
              "    </tr>\n",
              "    <tr>\n",
              "      <th>2</th>\n",
              "      <td>3</td>\n",
              "      <td>1</td>\n",
              "      <td>4</td>\n",
              "      <td>37</td>\n",
              "      <td>115</td>\n",
              "      <td>1</td>\n",
              "      <td>30</td>\n",
              "      <td>35</td>\n",
              "      <td>1</td>\n",
              "    </tr>\n",
              "    <tr>\n",
              "      <th>3</th>\n",
              "      <td>9</td>\n",
              "      <td>5</td>\n",
              "      <td>5</td>\n",
              "      <td>92</td>\n",
              "      <td>60</td>\n",
              "      <td>2</td>\n",
              "      <td>45</td>\n",
              "      <td>51</td>\n",
              "      <td>3</td>\n",
              "    </tr>\n",
              "    <tr>\n",
              "      <th>4</th>\n",
              "      <td>11</td>\n",
              "      <td>6</td>\n",
              "      <td>3</td>\n",
              "      <td>101</td>\n",
              "      <td>60</td>\n",
              "      <td>3</td>\n",
              "      <td>59</td>\n",
              "      <td>63</td>\n",
              "      <td>1</td>\n",
              "    </tr>\n",
              "  </tbody>\n",
              "</table>\n",
              "</div>"
            ],
            "text/plain": [
              "   carat  color  clarity  depth  table  price   x   y  cut\n",
              "0      3      1        3     83     30      0  20  26    2\n",
              "1      1      1        2     66     90      0  14  12    3\n",
              "2      3      1        4     37    115      1  30  35    1\n",
              "3      9      5        5     92     60      2  45  51    3\n",
              "4     11      6        3    101     60      3  59  63    1"
            ]
          },
          "metadata": {
            "tags": []
          },
          "execution_count": 17
        }
      ]
    },
    {
      "cell_type": "code",
      "metadata": {
        "id": "cBDqOZ64jraf",
        "colab_type": "code",
        "colab": {
          "base_uri": "https://localhost:8080/",
          "height": 286
        },
        "outputId": "3ac1e6f2-70da-407e-e66a-bc797e53905a"
      },
      "source": [
        "df.describe()"
      ],
      "execution_count": null,
      "outputs": [
        {
          "output_type": "execute_result",
          "data": {
            "text/html": [
              "<div>\n",
              "<style scoped>\n",
              "    .dataframe tbody tr th:only-of-type {\n",
              "        vertical-align: middle;\n",
              "    }\n",
              "\n",
              "    .dataframe tbody tr th {\n",
              "        vertical-align: top;\n",
              "    }\n",
              "\n",
              "    .dataframe thead th {\n",
              "        text-align: right;\n",
              "    }\n",
              "</style>\n",
              "<table border=\"1\" class=\"dataframe\">\n",
              "  <thead>\n",
              "    <tr style=\"text-align: right;\">\n",
              "      <th></th>\n",
              "      <th>carat</th>\n",
              "      <th>color</th>\n",
              "      <th>clarity</th>\n",
              "      <th>depth</th>\n",
              "      <th>table</th>\n",
              "      <th>price</th>\n",
              "      <th>x</th>\n",
              "      <th>y</th>\n",
              "      <th>cut</th>\n",
              "    </tr>\n",
              "  </thead>\n",
              "  <tbody>\n",
              "    <tr>\n",
              "      <th>count</th>\n",
              "      <td>53940.000000</td>\n",
              "      <td>53940.000000</td>\n",
              "      <td>53940.000000</td>\n",
              "      <td>53940.000000</td>\n",
              "      <td>53940.000000</td>\n",
              "      <td>53940.000000</td>\n",
              "      <td>53940.000000</td>\n",
              "      <td>53940.000000</td>\n",
              "      <td>53940.000000</td>\n",
              "    </tr>\n",
              "    <tr>\n",
              "      <th>mean</th>\n",
              "      <td>59.757008</td>\n",
              "      <td>2.594197</td>\n",
              "      <td>3.835150</td>\n",
              "      <td>85.497386</td>\n",
              "      <td>54.369596</td>\n",
              "      <td>3089.756785</td>\n",
              "      <td>198.144828</td>\n",
              "      <td>201.341676</td>\n",
              "      <td>2.553003</td>\n",
              "    </tr>\n",
              "    <tr>\n",
              "      <th>std</th>\n",
              "      <td>47.209045</td>\n",
              "      <td>1.701105</td>\n",
              "      <td>1.724591</td>\n",
              "      <td>14.201771</td>\n",
              "      <td>21.521437</td>\n",
              "      <td>3007.379097</td>\n",
              "      <td>111.895472</td>\n",
              "      <td>111.098948</td>\n",
              "      <td>1.027708</td>\n",
              "    </tr>\n",
              "    <tr>\n",
              "      <th>min</th>\n",
              "      <td>0.000000</td>\n",
              "      <td>0.000000</td>\n",
              "      <td>0.000000</td>\n",
              "      <td>0.000000</td>\n",
              "      <td>0.000000</td>\n",
              "      <td>0.000000</td>\n",
              "      <td>0.000000</td>\n",
              "      <td>0.000000</td>\n",
              "      <td>0.000000</td>\n",
              "    </tr>\n",
              "    <tr>\n",
              "      <th>25%</th>\n",
              "      <td>20.000000</td>\n",
              "      <td>1.000000</td>\n",
              "      <td>2.000000</td>\n",
              "      <td>78.000000</td>\n",
              "      <td>40.000000</td>\n",
              "      <td>605.000000</td>\n",
              "      <td>96.000000</td>\n",
              "      <td>100.000000</td>\n",
              "      <td>2.000000</td>\n",
              "    </tr>\n",
              "    <tr>\n",
              "      <th>50%</th>\n",
              "      <td>50.000000</td>\n",
              "      <td>3.000000</td>\n",
              "      <td>4.000000</td>\n",
              "      <td>86.000000</td>\n",
              "      <td>50.000000</td>\n",
              "      <td>1955.000000</td>\n",
              "      <td>195.000000</td>\n",
              "      <td>199.000000</td>\n",
              "      <td>2.000000</td>\n",
              "    </tr>\n",
              "    <tr>\n",
              "      <th>75%</th>\n",
              "      <td>84.000000</td>\n",
              "      <td>4.000000</td>\n",
              "      <td>5.000000</td>\n",
              "      <td>93.000000</td>\n",
              "      <td>70.000000</td>\n",
              "      <td>4720.250000</td>\n",
              "      <td>279.000000</td>\n",
              "      <td>282.000000</td>\n",
              "      <td>3.000000</td>\n",
              "    </tr>\n",
              "    <tr>\n",
              "      <th>max</th>\n",
              "      <td>272.000000</td>\n",
              "      <td>6.000000</td>\n",
              "      <td>7.000000</td>\n",
              "      <td>183.000000</td>\n",
              "      <td>126.000000</td>\n",
              "      <td>11601.000000</td>\n",
              "      <td>553.000000</td>\n",
              "      <td>551.000000</td>\n",
              "      <td>4.000000</td>\n",
              "    </tr>\n",
              "  </tbody>\n",
              "</table>\n",
              "</div>"
            ],
            "text/plain": [
              "              carat         color  ...             y           cut\n",
              "count  53940.000000  53940.000000  ...  53940.000000  53940.000000\n",
              "mean      59.757008      2.594197  ...    201.341676      2.553003\n",
              "std       47.209045      1.701105  ...    111.098948      1.027708\n",
              "min        0.000000      0.000000  ...      0.000000      0.000000\n",
              "25%       20.000000      1.000000  ...    100.000000      2.000000\n",
              "50%       50.000000      3.000000  ...    199.000000      2.000000\n",
              "75%       84.000000      4.000000  ...    282.000000      3.000000\n",
              "max      272.000000      6.000000  ...    551.000000      4.000000\n",
              "\n",
              "[8 rows x 9 columns]"
            ]
          },
          "metadata": {
            "tags": []
          },
          "execution_count": 18
        }
      ]
    },
    {
      "cell_type": "code",
      "metadata": {
        "id": "Fkfat8oEj3e9",
        "colab_type": "code",
        "colab": {
          "base_uri": "https://localhost:8080/",
          "height": 284
        },
        "outputId": "3ce3ee47-70fe-4003-d2d9-5ee98ec45afb"
      },
      "source": [
        "df.info()"
      ],
      "execution_count": null,
      "outputs": [
        {
          "output_type": "stream",
          "text": [
            "<class 'pandas.core.frame.DataFrame'>\n",
            "RangeIndex: 53940 entries, 0 to 53939\n",
            "Data columns (total 9 columns):\n",
            " #   Column   Non-Null Count  Dtype\n",
            "---  ------   --------------  -----\n",
            " 0   carat    53940 non-null  int64\n",
            " 1   color    53940 non-null  int64\n",
            " 2   clarity  53940 non-null  int64\n",
            " 3   depth    53940 non-null  int64\n",
            " 4   table    53940 non-null  int64\n",
            " 5   price    53940 non-null  int64\n",
            " 6   x        53940 non-null  int64\n",
            " 7   y        53940 non-null  int64\n",
            " 8   cut      53940 non-null  int64\n",
            "dtypes: int64(9)\n",
            "memory usage: 3.7 MB\n"
          ],
          "name": "stdout"
        }
      ]
    },
    {
      "cell_type": "code",
      "metadata": {
        "id": "Drtwmp_Ej76F",
        "colab_type": "code",
        "colab": {
          "base_uri": "https://localhost:8080/",
          "height": 322
        },
        "outputId": "be1f6151-6ff8-4ea8-e53c-fd8cfeb9db8d"
      },
      "source": [
        "import seaborn; seaborn.set()\n",
        "df.plot();"
      ],
      "execution_count": null,
      "outputs": [
        {
          "output_type": "stream",
          "text": [
            "/usr/local/lib/python3.6/dist-packages/statsmodels/tools/_testing.py:19: FutureWarning: pandas.util.testing is deprecated. Use the functions in the public API at pandas.testing instead.\n",
            "  import pandas.util.testing as tm\n"
          ],
          "name": "stderr"
        },
        {
          "output_type": "display_data",
          "data": {
            "image/png": "[encoded data removed]",
            "text/plain": [
              "<Figure size 432x288 with 1 Axes>"
            ]
          },
          "metadata": {
            "tags": []
          }
        }
      ]
    },
    {
      "cell_type": "code",
      "metadata": {
        "id": "435Fd7XTj_4k",
        "colab_type": "code",
        "colab": {
          "base_uri": "https://localhost:8080/",
          "height": 316
        },
        "outputId": "f0f6292a-d7b9-413b-ddbe-615f414b8b82"
      },
      "source": [
        "df.corr()"
      ],
      "execution_count": null,
      "outputs": [
        {
          "output_type": "execute_result",
          "data": {
            "text/html": [
              "<div>\n",
              "<style scoped>\n",
              "    .dataframe tbody tr th:only-of-type {\n",
              "        vertical-align: middle;\n",
              "    }\n",
              "\n",
              "    .dataframe tbody tr th {\n",
              "        vertical-align: top;\n",
              "    }\n",
              "\n",
              "    .dataframe thead th {\n",
              "        text-align: right;\n",
              "    }\n",
              "</style>\n",
              "<table border=\"1\" class=\"dataframe\">\n",
              "  <thead>\n",
              "    <tr style=\"text-align: right;\">\n",
              "      <th></th>\n",
              "      <th>carat</th>\n",
              "      <th>color</th>\n",
              "      <th>clarity</th>\n",
              "      <th>depth</th>\n",
              "      <th>table</th>\n",
              "      <th>price</th>\n",
              "      <th>x</th>\n",
              "      <th>y</th>\n",
              "      <th>cut</th>\n",
              "    </tr>\n",
              "  </thead>\n",
              "  <tbody>\n",
              "    <tr>\n",
              "      <th>carat</th>\n",
              "      <td>1.000000</td>\n",
              "      <td>0.291612</td>\n",
              "      <td>-0.213777</td>\n",
              "      <td>0.027903</td>\n",
              "      <td>0.185618</td>\n",
              "      <td>0.940714</td>\n",
              "      <td>0.978121</td>\n",
              "      <td>0.977152</td>\n",
              "      <td>0.017904</td>\n",
              "    </tr>\n",
              "    <tr>\n",
              "      <th>color</th>\n",
              "      <td>0.291612</td>\n",
              "      <td>1.000000</td>\n",
              "      <td>-0.027795</td>\n",
              "      <td>0.048133</td>\n",
              "      <td>0.027293</td>\n",
              "      <td>0.178400</td>\n",
              "      <td>0.270640</td>\n",
              "      <td>0.270338</td>\n",
              "      <td>0.000304</td>\n",
              "    </tr>\n",
              "    <tr>\n",
              "      <th>clarity</th>\n",
              "      <td>-0.213777</td>\n",
              "      <td>-0.027795</td>\n",
              "      <td>1.000000</td>\n",
              "      <td>-0.053271</td>\n",
              "      <td>-0.089686</td>\n",
              "      <td>-0.083672</td>\n",
              "      <td>-0.225832</td>\n",
              "      <td>-0.222887</td>\n",
              "      <td>0.028235</td>\n",
              "    </tr>\n",
              "    <tr>\n",
              "      <th>depth</th>\n",
              "      <td>0.027903</td>\n",
              "      <td>0.048133</td>\n",
              "      <td>-0.053271</td>\n",
              "      <td>1.000000</td>\n",
              "      <td>-0.296973</td>\n",
              "      <td>-0.005887</td>\n",
              "      <td>-0.025169</td>\n",
              "      <td>-0.028353</td>\n",
              "      <td>-0.196270</td>\n",
              "    </tr>\n",
              "    <tr>\n",
              "      <th>table</th>\n",
              "      <td>0.185618</td>\n",
              "      <td>0.027293</td>\n",
              "      <td>-0.089686</td>\n",
              "      <td>-0.296973</td>\n",
              "      <td>1.000000</td>\n",
              "      <td>0.141948</td>\n",
              "      <td>0.199109</td>\n",
              "      <td>0.193129</td>\n",
              "      <td>0.174354</td>\n",
              "    </tr>\n",
              "    <tr>\n",
              "      <th>price</th>\n",
              "      <td>0.940714</td>\n",
              "      <td>0.178400</td>\n",
              "      <td>-0.083672</td>\n",
              "      <td>-0.005887</td>\n",
              "      <td>0.141948</td>\n",
              "      <td>1.000000</td>\n",
              "      <td>0.924632</td>\n",
              "      <td>0.926046</td>\n",
              "      <td>0.039893</td>\n",
              "    </tr>\n",
              "    <tr>\n",
              "      <th>x</th>\n",
              "      <td>0.978121</td>\n",
              "      <td>0.270640</td>\n",
              "      <td>-0.225832</td>\n",
              "      <td>-0.025169</td>\n",
              "      <td>0.199109</td>\n",
              "      <td>0.924632</td>\n",
              "      <td>1.000000</td>\n",
              "      <td>0.998463</td>\n",
              "      <td>0.022290</td>\n",
              "    </tr>\n",
              "    <tr>\n",
              "      <th>y</th>\n",
              "      <td>0.977152</td>\n",
              "      <td>0.270338</td>\n",
              "      <td>-0.222887</td>\n",
              "      <td>-0.028353</td>\n",
              "      <td>0.193129</td>\n",
              "      <td>0.926046</td>\n",
              "      <td>0.998463</td>\n",
              "      <td>1.000000</td>\n",
              "      <td>0.028093</td>\n",
              "    </tr>\n",
              "    <tr>\n",
              "      <th>cut</th>\n",
              "      <td>0.017904</td>\n",
              "      <td>0.000304</td>\n",
              "      <td>0.028235</td>\n",
              "      <td>-0.196270</td>\n",
              "      <td>0.174354</td>\n",
              "      <td>0.039893</td>\n",
              "      <td>0.022290</td>\n",
              "      <td>0.028093</td>\n",
              "      <td>1.000000</td>\n",
              "    </tr>\n",
              "  </tbody>\n",
              "</table>\n",
              "</div>"
            ],
            "text/plain": [
              "            carat     color   clarity  ...         x         y       cut\n",
              "carat    1.000000  0.291612 -0.213777  ...  0.978121  0.977152  0.017904\n",
              "color    0.291612  1.000000 -0.027795  ...  0.270640  0.270338  0.000304\n",
              "clarity -0.213777 -0.027795  1.000000  ... -0.225832 -0.222887  0.028235\n",
              "depth    0.027903  0.048133 -0.053271  ... -0.025169 -0.028353 -0.196270\n",
              "table    0.185618  0.027293 -0.089686  ...  0.199109  0.193129  0.174354\n",
              "price    0.940714  0.178400 -0.083672  ...  0.924632  0.926046  0.039893\n",
              "x        0.978121  0.270640 -0.225832  ...  1.000000  0.998463  0.022290\n",
              "y        0.977152  0.270338 -0.222887  ...  0.998463  1.000000  0.028093\n",
              "cut      0.017904  0.000304  0.028235  ...  0.022290  0.028093  1.000000\n",
              "\n",
              "[9 rows x 9 columns]"
            ]
          },
          "metadata": {
            "tags": []
          },
          "execution_count": 21
        }
      ]
    },
    {
      "cell_type": "code",
      "metadata": {
        "id": "o2xlDJjRkDBl",
        "colab_type": "code",
        "colab": {}
      },
      "source": [
        "from matplotlib import pyplot as plt\n",
        "import seaborn as sns"
      ],
      "execution_count": null,
      "outputs": []
    },
    {
      "cell_type": "code",
      "metadata": {
        "id": "2l4LgvL5kF31",
        "colab_type": "code",
        "colab": {
          "base_uri": "https://localhost:8080/",
          "height": 1000
        },
        "outputId": "15638692-c742-4d19-b7fc-715d72743c42"
      },
      "source": [
        "f,ax=plt.subplots(figsize=(18,18))\n",
        "sns.heatmap(df.corr(),annot=True, linewidths=.5,fmt='.1f',ax=ax)"
      ],
      "execution_count": null,
      "outputs": [
        {
          "output_type": "execute_result",
          "data": {
            "text/plain": [
              "<matplotlib.axes._subplots.AxesSubplot at 0x7fb11f55d5c0>"
            ]
          },
          "metadata": {
            "tags": []
          },
          "execution_count": 23
        },
        {
          "output_type": "display_data",
          "data": {
            "image/png": "[encoded data removed]",
            "text/plain": [
              "<Figure size 1296x1296 with 2 Axes>"
            ]
          },
          "metadata": {
            "tags": []
          }
        }
      ]
    },
    {
      "cell_type": "code",
      "metadata": {
        "id": "RNO-JvtLkIVs",
        "colab_type": "code",
        "colab": {
          "base_uri": "https://localhost:8080/",
          "height": 737
        },
        "outputId": "f3afdba4-c714-4293-f03f-9d25b207f512"
      },
      "source": [
        "def correlation_matrix(d):\n",
        "    from matplotlib import pyplot as plt\n",
        "    from matplotlib import cm as cm\n",
        "\n",
        "    fig = plt.figure(figsize=(16,12))\n",
        "    ax1 = fig.add_subplot(111)\n",
        "    cmap = cm.get_cmap('jet', 30)\n",
        "    cax = ax1.imshow(df.corr(), interpolation=\"nearest\", cmap=cmap)\n",
        "    ax1.grid(True)\n",
        "    plt.title('Diamond data set features correlation\\n',fontsize=15)\n",
        "    labels=df.columns\n",
        "    ax1.set_xticklabels(labels,fontsize=9)\n",
        "    ax1.set_yticklabels(labels,fontsize=9)\n",
        "    # Add colorbar, make sure to specify tick locations to match desired ticklabels\n",
        "    fig.colorbar(cax, ticks=[0.1*i for i in range(-11,11)])\n",
        "    plt.show()\n",
        "correlation_matrix(df)\n"
      ],
      "execution_count": null,
      "outputs": [
        {
          "output_type": "display_data",
          "data": {
            "image/png": "[encoded data removed]",
            "text/plain": [
              "<Figure size 1152x864 with 2 Axes>"
            ]
          },
          "metadata": {
            "tags": []
          }
        }
      ]
    },
    {
      "cell_type": "code",
      "metadata": {
        "id": "c5UUDn4gkYuN",
        "colab_type": "code",
        "colab": {
          "base_uri": "https://localhost:8080/",
          "height": 421
        },
        "outputId": "fc77dc76-d271-4370-9163-181747366794"
      },
      "source": [
        "i=1\n",
        "plt.figure(figsize=(20,18))\n",
        "for c in df.describe().columns[:]:\n",
        "    plt.subplot(8,3,i)\n",
        "    plt.title(f\"Histogram of {c}\",fontsize=10)\n",
        "    plt.yticks(fontsize=12)\n",
        "    plt.xticks(fontsize=12)\n",
        "    plt.hist(df[c],bins=20,color='red',edgecolor='k')\n",
        "    i+=1\n",
        "plt.show()"
      ],
      "execution_count": null,
      "outputs": [
        {
          "output_type": "display_data",
          "data": {
            "image/png": "[encoded data removed]",
            "text/plain": [
              "<Figure size 1440x1296 with 9 Axes>"
            ]
          },
          "metadata": {
            "tags": []
          }
        }
      ]
    },
    {
      "cell_type": "code",
      "metadata": {
        "id": "9bx4uAdXkciN",
        "colab_type": "code",
        "colab": {
          "base_uri": "https://localhost:8080/",
          "height": 1000
        },
        "outputId": "a09c2da2-b4d1-4b5d-a3c8-3925734c2942"
      },
      "source": [
        "with plt.style.context(('seaborn-dark')):\n",
        "    for i,col in enumerate(df.columns[:-1]):\n",
        "        plt.figure(figsize=(6,4))\n",
        "        plt.grid(True)\n",
        "        plt.xlabel('Feature:'+col,fontsize=12)\n",
        "        plt.ylabel('Output: cut',fontsize=12)\n",
        "        plt.scatter(df[col],df['cut'],c='blue',s=50,alpha=0.6)"
      ],
      "execution_count": null,
      "outputs": [
        {
          "output_type": "display_data",
          "data": {
            "image/png": "[encoded data removed]",
            "text/plain": [
              "<Figure size 432x288 with 1 Axes>"
            ]
          },
          "metadata": {
            "tags": []
          }
        },
        {
          "output_type": "display_data",
          "data": {
            "image/png": "[encoded data removed]",
            "text/plain": [
              "<Figure size 432x288 with 1 Axes>"
            ]
          },
          "metadata": {
            "tags": []
          }
        },
        {
          "output_type": "display_data",
          "data": {
            "image/png": "[encoded data removed]",
            "text/plain": [
              "<Figure size 432x288 with 1 Axes>"
            ]
          },
          "metadata": {
            "tags": []
          }
        },
        {
          "output_type": "display_data",
          "data": {
            "image/png": "[encoded data removed]",
            "text/plain": [
              "<Figure size 432x288 with 1 Axes>"
            ]
          },
          "metadata": {
            "tags": []
          }
        },
        {
          "output_type": "display_data",
          "data": {
            "image/png": "[encoded data removed]",
            "text/plain": [
              "<Figure size 432x288 with 1 Axes>"
            ]
          },
          "metadata": {
            "tags": []
          }
        },
        {
          "output_type": "display_data",
          "data": {
            "image/png": "[encoded data removed]",
            "text/plain": [
              "<Figure size 432x288 with 1 Axes>"
            ]
          },
          "metadata": {
            "tags": []
          }
        },
        {
          "output_type": "display_data",
          "data": {
            "image/png": "[encoded data removed]",
            "text/plain": [
              "<Figure size 432x288 with 1 Axes>"
            ]
          },
          "metadata": {
            "tags": []
          }
        },
        {
          "output_type": "display_data",
          "data": {
            "image/png": "[encoded data removed]",
            "text/plain": [
              "<Figure size 432x288 with 1 Axes>"
            ]
          },
          "metadata": {
            "tags": []
          }
        }
      ]
    },
    {
      "cell_type": "code",
      "metadata": {
        "id": "2yUAiOw2ko59",
        "colab_type": "code",
        "colab": {
          "base_uri": "https://localhost:8080/",
          "height": 184
        },
        "outputId": "985aa88e-f55a-4ccf-dc08-b084f7ef42f5"
      },
      "source": [
        "df.apply(lambda x: sum(x.isnull()),axis=0)"
      ],
      "execution_count": null,
      "outputs": [
        {
          "output_type": "execute_result",
          "data": {
            "text/plain": [
              "carat      0\n",
              "color      0\n",
              "clarity    0\n",
              "depth      0\n",
              "table      0\n",
              "price      0\n",
              "x          0\n",
              "y          0\n",
              "cut        0\n",
              "dtype: int64"
            ]
          },
          "metadata": {
            "tags": []
          },
          "execution_count": 27
        }
      ]
    },
    {
      "cell_type": "code",
      "metadata": {
        "id": "BEyMJHFCkt23",
        "colab_type": "code",
        "colab": {
          "base_uri": "https://localhost:8080/",
          "height": 868
        },
        "outputId": "64e4a5a7-a5c5-4bc1-ba0d-344667b77fd3"
      },
      "source": [
        "i=1\n",
        "plt.figure(figsize=(30,20))\n",
        "for c in df.columns[:-1]:\n",
        "    plt.subplot(3,3,i)\n",
        "    plt.title(f\"Boxplot of {c}\",fontsize=16)\n",
        "    plt.yticks(fontsize=12)\n",
        "    plt.xticks(fontsize=12)\n",
        "    sns.boxplot(y=df[c],x=df['cut'])\n",
        "    i+=1\n",
        "plt.show()"
      ],
      "execution_count": null,
      "outputs": [
        {
          "output_type": "display_data",
          "data": {
            "image/png": "[encoded data removed]",
            "text/plain": [
              "<Figure size 2160x1440 with 8 Axes>"
            ]
          },
          "metadata": {
            "tags": []
          }
        }
      ]
    },
    {
      "cell_type": "code",
      "metadata": {
        "id": "_ltIkHFhkzn7",
        "colab_type": "code",
        "colab": {}
      },
      "source": [
        "X_data=df.drop(['cut'],axis=1)\n",
        "y_data=df['cut']\n",
        "\n"
      ],
      "execution_count": null,
      "outputs": []
    },
    {
      "cell_type": "code",
      "metadata": {
        "id": "wwO9KJYIlJ5l",
        "colab_type": "code",
        "colab": {
          "base_uri": "https://localhost:8080/",
          "height": 33
        },
        "outputId": "758cd68f-1f81-4a34-c444-1230370879d3"
      },
      "source": [
        "X_data.shape"
      ],
      "execution_count": null,
      "outputs": [
        {
          "output_type": "execute_result",
          "data": {
            "text/plain": [
              "(53940, 8)"
            ]
          },
          "metadata": {
            "tags": []
          },
          "execution_count": 30
        }
      ]
    },
    {
      "cell_type": "code",
      "metadata": {
        "id": "_MSeYtD9kTbc",
        "colab_type": "code",
        "colab": {}
      },
      "source": [
        "from sklearn.model_selection import train_test_split"
      ],
      "execution_count": null,
      "outputs": []
    },
    {
      "cell_type": "code",
      "metadata": {
        "id": "EQH3bRLFlPl1",
        "colab_type": "code",
        "colab": {}
      },
      "source": [
        "X_train, X_test, y_train, y_test = train_test_split(X_data,y_data,test_size=0.33, random_state=42)"
      ],
      "execution_count": null,
      "outputs": []
    },
    {
      "cell_type": "code",
      "metadata": {
        "id": "2hR0unGQldGU",
        "colab_type": "code",
        "colab": {}
      },
      "source": [
        "#Applied Algorithm or Method into Data  without scaling (standard scaler or min max)"
      ],
      "execution_count": null,
      "outputs": []
    },
    {
      "cell_type": "code",
      "metadata": {
        "id": "9AT3a3rTixjl",
        "colab_type": "code",
        "colab": {
          "base_uri": "https://localhost:8080/",
          "height": 33
        },
        "outputId": "267ded6d-d5d7-4fb9-8318-b8018c88f8ec"
      },
      "source": [
        "dims = X_train.shape[1]\n",
        "print(dims, 'dims')"
      ],
      "execution_count": null,
      "outputs": [
        {
          "output_type": "stream",
          "text": [
            "8 dims\n"
          ],
          "name": "stdout"
        }
      ]
    },
    {
      "cell_type": "code",
      "metadata": {
        "id": "uYtSZK51lh90",
        "colab_type": "code",
        "colab": {
          "base_uri": "https://localhost:8080/",
          "height": 217
        },
        "outputId": "af0fee26-f8c9-46f7-979c-ea26060f42b8"
      },
      "source": [
        "print(y_train)"
      ],
      "execution_count": null,
      "outputs": [
        {
          "output_type": "stream",
          "text": [
            "241      0\n",
            "17398    2\n",
            "36608    4\n",
            "44731    2\n",
            "18104    2\n",
            "        ..\n",
            "11284    4\n",
            "44732    2\n",
            "38158    4\n",
            "860      3\n",
            "15795    3\n",
            "Name: cut, Length: 36139, dtype: int64\n"
          ],
          "name": "stdout"
        }
      ]
    },
    {
      "cell_type": "code",
      "metadata": {
        "id": "o3FHA-TJlkiM",
        "colab_type": "code",
        "colab": {
          "base_uri": "https://localhost:8080/",
          "height": 84
        },
        "outputId": "b12bf181-9252-4775-f2ed-8c23ce92b322"
      },
      "source": [
        "#For Support vector Algorithm\n",
        "from sklearn.svm import SVC\n",
        "model = SVC()\n",
        "model.fit(X_train,y_train)"
      ],
      "execution_count": null,
      "outputs": [
        {
          "output_type": "execute_result",
          "data": {
            "text/plain": [
              "SVC(C=1.0, break_ties=False, cache_size=200, class_weight=None, coef0=0.0,\n",
              "    decision_function_shape='ovr', degree=3, gamma='scale', kernel='rbf',\n",
              "    max_iter=-1, probability=False, random_state=None, shrinking=True,\n",
              "    tol=0.001, verbose=False)"
            ]
          },
          "metadata": {
            "tags": []
          },
          "execution_count": 36
        }
      ]
    },
    {
      "cell_type": "code",
      "metadata": {
        "id": "DFwFAI-ylrCs",
        "colab_type": "code",
        "colab": {}
      },
      "source": [
        "predictions = model.predict(X_test)"
      ],
      "execution_count": null,
      "outputs": []
    },
    {
      "cell_type": "code",
      "metadata": {
        "id": "pYBLX7G0mClt",
        "colab_type": "code",
        "colab": {}
      },
      "source": [
        "from sklearn.metrics import classification_report,confusion_matrix"
      ],
      "execution_count": null,
      "outputs": []
    },
    {
      "cell_type": "code",
      "metadata": {
        "id": "6uMFzO95mK08",
        "colab_type": "code",
        "colab": {
          "base_uri": "https://localhost:8080/",
          "height": 100
        },
        "outputId": "f03459fe-2f7e-46b4-c9b8-686d10e9501e"
      },
      "source": [
        "print(confusion_matrix(y_test,predictions))"
      ],
      "execution_count": null,
      "outputs": [
        {
          "output_type": "stream",
          "text": [
            "[[   0    0  314  218    0]\n",
            " [   0    0 1091  552    0]\n",
            " [   0    0 6507  622    0]\n",
            " [   0    0 3014 1569    0]\n",
            " [   0    0 3003  911    0]]\n"
          ],
          "name": "stdout"
        }
      ]
    },
    {
      "cell_type": "code",
      "metadata": {
        "id": "lVmRUnzAmNRW",
        "colab_type": "code",
        "colab": {
          "base_uri": "https://localhost:8080/",
          "height": 271
        },
        "outputId": "ac6c75f1-3e9f-4428-c079-f5fbe6733ed8"
      },
      "source": [
        "print(classification_report(y_test,predictions))"
      ],
      "execution_count": null,
      "outputs": [
        {
          "output_type": "stream",
          "text": [
            "              precision    recall  f1-score   support\n",
            "\n",
            "           0       0.00      0.00      0.00       532\n",
            "           1       0.00      0.00      0.00      1643\n",
            "           2       0.47      0.91      0.62      7129\n",
            "           3       0.41      0.34      0.37      4583\n",
            "           4       0.00      0.00      0.00      3914\n",
            "\n",
            "    accuracy                           0.45     17801\n",
            "   macro avg       0.17      0.25      0.20     17801\n",
            "weighted avg       0.29      0.45      0.34     17801\n",
            "\n"
          ],
          "name": "stdout"
        },
        {
          "output_type": "stream",
          "text": [
            "/usr/local/lib/python3.6/dist-packages/sklearn/metrics/_classification.py:1272: UndefinedMetricWarning: Precision and F-score are ill-defined and being set to 0.0 in labels with no predicted samples. Use `zero_division` parameter to control this behavior.\n",
            "  _warn_prf(average, modifier, msg_start, len(result))\n"
          ],
          "name": "stderr"
        }
      ]
    },
    {
      "cell_type": "code",
      "metadata": {
        "id": "oxgQ04Gqu2VM",
        "colab_type": "code",
        "colab": {}
      },
      "source": [
        "#Using XGBboost Classifier"
      ],
      "execution_count": null,
      "outputs": []
    },
    {
      "cell_type": "code",
      "metadata": {
        "id": "bHIqnkMbxGzo",
        "colab_type": "code",
        "colab": {}
      },
      "source": [
        "from xgboost import XGBClassifier\n",
        "from sklearn.model_selection import train_test_split\n",
        "from sklearn.metrics import accuracy_score"
      ],
      "execution_count": null,
      "outputs": []
    },
    {
      "cell_type": "code",
      "metadata": {
        "id": "8SQkX16dxHdB",
        "colab_type": "code",
        "colab": {
          "base_uri": "https://localhost:8080/",
          "height": 134
        },
        "outputId": "956def50-bf8f-4f42-9595-a1570222f17d"
      },
      "source": [
        "model = XGBClassifier()\n",
        "model.fit(X_train, y_train)"
      ],
      "execution_count": null,
      "outputs": [
        {
          "output_type": "execute_result",
          "data": {
            "text/plain": [
              "XGBClassifier(base_score=0.5, booster='gbtree', colsample_bylevel=1,\n",
              "              colsample_bynode=1, colsample_bytree=1, gamma=0,\n",
              "              learning_rate=0.1, max_delta_step=0, max_depth=3,\n",
              "              min_child_weight=1, missing=None, n_estimators=100, n_jobs=1,\n",
              "              nthread=None, objective='multi:softprob', random_state=0,\n",
              "              reg_alpha=0, reg_lambda=1, scale_pos_weight=1, seed=None,\n",
              "              silent=None, subsample=1, verbosity=1)"
            ]
          },
          "metadata": {
            "tags": []
          },
          "execution_count": 43
        }
      ]
    },
    {
      "cell_type": "code",
      "metadata": {
        "id": "mUAYLSOnxM-x",
        "colab_type": "code",
        "colab": {}
      },
      "source": [
        "# make predictions for test data\n",
        "y_pred = model.predict(X_test)\n",
        "predictions = [round(value) for value in y_pred]\n",
        "# make predictions for test data\n",
        "y_pred = model.predict(X_test)\n",
        "predictions = [round(value) for value in y_pred]"
      ],
      "execution_count": null,
      "outputs": []
    },
    {
      "cell_type": "code",
      "metadata": {
        "id": "BDpfkkBIxSu5",
        "colab_type": "code",
        "colab": {
          "base_uri": "https://localhost:8080/",
          "height": 33
        },
        "outputId": "8c73eb23-e0f7-4d3e-d937-18391ba7790c"
      },
      "source": [
        "# evaluate predictions\n",
        "accuracy = accuracy_score(y_test, predictions)\n",
        "print(\"Accuracy: %.2f%%\" % (accuracy * 100.0))"
      ],
      "execution_count": null,
      "outputs": [
        {
          "output_type": "stream",
          "text": [
            "Accuracy: 74.88%\n"
          ],
          "name": "stdout"
        }
      ]
    },
    {
      "cell_type": "code",
      "metadata": {
        "id": "JRP5HlNBybWP",
        "colab_type": "code",
        "colab": {}
      },
      "source": [
        "#Models performance Analysis with scaling(standard Scaler)"
      ],
      "execution_count": null,
      "outputs": []
    },
    {
      "cell_type": "code",
      "metadata": {
        "id": "AN-9b94zxVkR",
        "colab_type": "code",
        "colab": {}
      },
      "source": [
        "from sklearn.linear_model import LogisticRegression\n",
        "from sklearn.metrics import accuracy_score\n",
        "from sklearn.preprocessing import StandardScaler\n",
        "sc=StandardScaler()\n",
        "list_models=[]\n",
        "list_scores=[]\n",
        "x_train=sc.fit_transform(X_train)"
      ],
      "execution_count": null,
      "outputs": []
    },
    {
      "cell_type": "code",
      "metadata": {
        "id": "a1R-A5ZtxfSB",
        "colab_type": "code",
        "colab": {}
      },
      "source": [
        "from sklearn.neighbors import KNeighborsClassifier\n",
        "list_1=[]\n",
        "for i in range(1,11):\n",
        "    knn=KNeighborsClassifier(n_neighbors=i)\n",
        "    knn.fit(x_train,y_train)\n",
        "    preds=knn.predict(sc.transform(X_test))\n",
        "    scores=accuracy_score(y_test,preds)\n",
        "    list_1.append(scores)"
      ],
      "execution_count": null,
      "outputs": []
    },
    {
      "cell_type": "code",
      "metadata": {
        "id": "ykz-fyh_xvcC",
        "colab_type": "code",
        "colab": {}
      },
      "source": [
        "list_scores.append(max(list_1))\n",
        "list_models.append('KNeighbors Classifier')"
      ],
      "execution_count": null,
      "outputs": []
    },
    {
      "cell_type": "code",
      "metadata": {
        "id": "69EDHOiQx0K5",
        "colab_type": "code",
        "colab": {
          "base_uri": "https://localhost:8080/",
          "height": 33
        },
        "outputId": "550b2af4-4c21-4a9b-a59b-806ca467fef3"
      },
      "source": [
        "print(max(list_1))"
      ],
      "execution_count": null,
      "outputs": [
        {
          "output_type": "stream",
          "text": [
            "0.683276220437054\n"
          ],
          "name": "stdout"
        }
      ]
    },
    {
      "cell_type": "code",
      "metadata": {
        "id": "DQhVp09Ux3Wp",
        "colab_type": "code",
        "colab": {}
      },
      "source": [
        "#2nd method for Random forest"
      ],
      "execution_count": null,
      "outputs": []
    },
    {
      "cell_type": "code",
      "metadata": {
        "id": "pBfcWTeAx59h",
        "colab_type": "code",
        "colab": {}
      },
      "source": [
        "from sklearn.ensemble import RandomForestClassifier\n",
        "rfc=RandomForestClassifier()\n",
        "rfc.fit(x_train,y_train)\n",
        "pred_2=rfc.predict(sc.transform(X_test))\n",
        "score_2=accuracy_score(y_test,pred_2)\n",
        "list_models.append('Randomforest Classifier')\n",
        "list_scores.append(score_2)"
      ],
      "execution_count": null,
      "outputs": []
    },
    {
      "cell_type": "code",
      "metadata": {
        "id": "RV1V3gZrx_kA",
        "colab_type": "code",
        "colab": {
          "base_uri": "https://localhost:8080/",
          "height": 33
        },
        "outputId": "d82626b7-19d6-41ea-eb75-a4e28803fa45"
      },
      "source": [
        "score_2"
      ],
      "execution_count": null,
      "outputs": [
        {
          "output_type": "execute_result",
          "data": {
            "text/plain": [
              "0.7811358912420651"
            ]
          },
          "metadata": {
            "tags": []
          },
          "execution_count": 53
        }
      ]
    },
    {
      "cell_type": "code",
      "metadata": {
        "id": "WbHatDDkyDSR",
        "colab_type": "code",
        "colab": {}
      },
      "source": [
        "from sklearn.svm import SVC\n",
        "svm=SVC()\n",
        "svm.fit(x_train,y_train)\n",
        "pred_3=svm.predict(sc.transform(X_test))\n",
        "score_3=accuracy_score(y_test,pred_3)\n",
        "list_scores.append(score_3)\n",
        "list_models.append('Support vector machines')"
      ],
      "execution_count": null,
      "outputs": []
    },
    {
      "cell_type": "code",
      "metadata": {
        "id": "sYcgFWahyGtI",
        "colab_type": "code",
        "colab": {
          "base_uri": "https://localhost:8080/",
          "height": 33
        },
        "outputId": "2b2acbb3-1e3a-491f-f009-85bf262c3e79"
      },
      "source": [
        "score_3"
      ],
      "execution_count": null,
      "outputs": [
        {
          "output_type": "execute_result",
          "data": {
            "text/plain": [
              "0.7427672602662772"
            ]
          },
          "metadata": {
            "tags": []
          },
          "execution_count": 55
        }
      ]
    },
    {
      "cell_type": "code",
      "metadata": {
        "id": "wT6r7qQWyLF5",
        "colab_type": "code",
        "colab": {}
      },
      "source": [
        "#2nd method for XGB"
      ],
      "execution_count": null,
      "outputs": []
    },
    {
      "cell_type": "code",
      "metadata": {
        "id": "9tOBEPr2yNof",
        "colab_type": "code",
        "colab": {}
      },
      "source": [
        "from xgboost import XGBClassifier\n",
        "xgb=XGBClassifier()\n",
        "xgb.fit(x_train,y_train)\n",
        "pred_4=xgb.predict(sc.transform(X_test))\n",
        "score_4=accuracy_score(y_test,pred_4)\n",
        "list_models.append('XGboost')\n",
        "list_scores.append(score_4)"
      ],
      "execution_count": null,
      "outputs": []
    },
    {
      "cell_type": "code",
      "metadata": {
        "id": "unL0PYqmyQGg",
        "colab_type": "code",
        "colab": {
          "base_uri": "https://localhost:8080/",
          "height": 33
        },
        "outputId": "5f6b890c-f869-434b-e2fc-3d31758e6801"
      },
      "source": [
        "score_4"
      ],
      "execution_count": null,
      "outputs": [
        {
          "output_type": "execute_result",
          "data": {
            "text/plain": [
              "0.7488343351497107"
            ]
          },
          "metadata": {
            "tags": []
          },
          "execution_count": 58
        }
      ]
    },
    {
      "cell_type": "code",
      "metadata": {
        "id": "McwIk_x_yTHg",
        "colab_type": "code",
        "colab": {
          "base_uri": "https://localhost:8080/",
          "height": 339
        },
        "outputId": "0363d262-e272-400d-9e20-0620f9447bd4"
      },
      "source": [
        "plt.figure(figsize=(12,5))\n",
        "plt.bar(list_models,list_scores)\n",
        "plt.xlabel('classifiers')\n",
        "plt.ylabel('accuracy scores')\n",
        "plt.show()"
      ],
      "execution_count": null,
      "outputs": [
        {
          "output_type": "display_data",
          "data": {
            "image/png": "[encoded data removed]",
            "text/plain": [
              "<Figure size 864x360 with 1 Axes>"
            ]
          },
          "metadata": {
            "tags": []
          }
        }
      ]
    },
    {
      "cell_type": "code",
      "metadata": {
        "id": "20OjNieqyXbY",
        "colab_type": "code",
        "colab": {}
      },
      "source": [
        "#Artificial Neural Networks"
      ],
      "execution_count": null,
      "outputs": []
    },
    {
      "cell_type": "code",
      "metadata": {
        "id": "UUuPDlnVykzQ",
        "colab_type": "code",
        "colab": {}
      },
      "source": [
        "import keras\n",
        "import numpy\n",
        "import pandas\n",
        "from keras.models import Sequential\n",
        "from keras.layers import Dense\n",
        "from keras.wrappers.scikit_learn import KerasClassifier\n",
        "from sklearn.model_selection import cross_val_score\n",
        "from sklearn.preprocessing import LabelEncoder\n",
        "from sklearn.model_selection import StratifiedKFold\n",
        "from sklearn.preprocessing import StandardScaler\n",
        "from sklearn.pipeline import Pipeline\n",
        "import numpy as np\n",
        "import matplotlib.pyplot as plt\n",
        "import pandas as pd"
      ],
      "execution_count": null,
      "outputs": []
    },
    {
      "cell_type": "code",
      "metadata": {
        "id": "J0jk0GShynWA",
        "colab_type": "code",
        "colab": {
          "base_uri": "https://localhost:8080/",
          "height": 134
        },
        "outputId": "a28b9e81-499b-4394-fe05-aebfe0b3060e"
      },
      "source": [
        "X = df.iloc[:, 1:8].values\n",
        "y = df.iloc[:, 8].values\n",
        "X"
      ],
      "execution_count": null,
      "outputs": [
        {
          "output_type": "execute_result",
          "data": {
            "text/plain": [
              "array([[   1,    3,   83, ...,    0,   20,   26],\n",
              "       [   1,    2,   66, ...,    0,   14,   12],\n",
              "       [   1,    4,   37, ...,    1,   30,   35],\n",
              "       ...,\n",
              "       [   0,    2,   96, ..., 2300,  191,  196],\n",
              "       [   4,    3,   78, ..., 2300,  240,  240],\n",
              "       [   0,    3,   90, ..., 2300,  208,  215]])"
            ]
          },
          "metadata": {
            "tags": []
          },
          "execution_count": 62
        }
      ]
    },
    {
      "cell_type": "code",
      "metadata": {
        "id": "wyJYuV0-y2SW",
        "colab_type": "code",
        "colab": {
          "base_uri": "https://localhost:8080/",
          "height": 33
        },
        "outputId": "75d4a95c-520c-46ea-896e-5292d722765f"
      },
      "source": [
        "y"
      ],
      "execution_count": null,
      "outputs": [
        {
          "output_type": "execute_result",
          "data": {
            "text/plain": [
              "array([2, 3, 1, ..., 4, 3, 2])"
            ]
          },
          "metadata": {
            "tags": []
          },
          "execution_count": 63
        }
      ]
    },
    {
      "cell_type": "code",
      "metadata": {
        "id": "19a49Cs8y3cY",
        "colab_type": "code",
        "colab": {}
      },
      "source": [
        "#Deep Learning Baseline Model-Using Buildin Function"
      ],
      "execution_count": null,
      "outputs": []
    },
    {
      "cell_type": "code",
      "metadata": {
        "id": "Vdy6cmpVzAbA",
        "colab_type": "code",
        "colab": {}
      },
      "source": [
        "def create_baseline():\n",
        "# create model\n",
        "    model = Sequential()\n",
        "    model.add(Dense(100, input_dim=7, kernel_initializer='normal', activation='relu'))\n",
        "    model.add(Dense(100, kernel_initializer='normal', activation='relu'))\n",
        "    model.add(Dense(50, kernel_initializer='normal', activation='relu'))\n",
        "    model.add(Dense(5, kernel_initializer='normal', activation='softmax'))\n",
        "    # Compile model\n",
        "    model.compile(loss='categorical_crossentropy', optimizer='adam', metrics=['accuracy'])\n",
        "    return model"
      ],
      "execution_count": null,
      "outputs": []
    },
    {
      "cell_type": "code",
      "metadata": {
        "id": "aAQUoCx1zNjQ",
        "colab_type": "code",
        "colab": {
          "base_uri": "https://localhost:8080/",
          "height": 1000
        },
        "outputId": "0bd5632a-0719-4670-bfef-2704e9c095c1"
      },
      "source": [
        "seed = 7\n",
        "numpy.random.seed(seed)\n",
        "# evaluate model with standardized dataset\n",
        "estimator = KerasClassifier(build_fn=create_baseline, epochs=100, batch_size=5, verbose=1)\n",
        "kfold = StratifiedKFold(n_splits=3, shuffle=True, random_state=seed)\n",
        "results = cross_val_score(estimator, X, y, cv=kfold)\n",
        "print(\"Results: %.2f%% (%.2f%%)\" % (results.mean()*100, results.std()*100))\n"
      ],
      "execution_count": null,
      "outputs": [
        {
          "output_type": "stream",
          "text": [
            "Epoch 1/100\n",
            "7192/7192 [==============================] - 9s 1ms/step - loss: 1.2668 - accuracy: 0.4925\n",
            "Epoch 2/100\n",
            "7192/7192 [==============================] - 9s 1ms/step - loss: 1.1488 - accuracy: 0.5540\n",
            "Epoch 3/100\n",
            "7192/7192 [==============================] - 9s 1ms/step - loss: 1.1040 - accuracy: 0.5705\n",
            "Epoch 4/100\n",
            "7192/7192 [==============================] - 9s 1ms/step - loss: 1.0402 - accuracy: 0.5915\n",
            "Epoch 5/100\n",
            "7192/7192 [==============================] - 9s 1ms/step - loss: 0.9837 - accuracy: 0.6100\n",
            "Epoch 6/100\n",
            "7192/7192 [==============================] - 9s 1ms/step - loss: 0.9495 - accuracy: 0.6260\n",
            "Epoch 7/100\n",
            "7192/7192 [==============================] - 9s 1ms/step - loss: 0.9356 - accuracy: 0.6300\n",
            "Epoch 8/100\n",
            "7192/7192 [==============================] - 9s 1ms/step - loss: 0.9231 - accuracy: 0.6381\n",
            "Epoch 9/100\n",
            "7192/7192 [==============================] - 9s 1ms/step - loss: 0.9226 - accuracy: 0.6411\n",
            "Epoch 10/100\n",
            "7192/7192 [==============================] - 9s 1ms/step - loss: 0.9123 - accuracy: 0.6459\n",
            "Epoch 11/100\n",
            "7192/7192 [==============================] - 9s 1ms/step - loss: 0.9064 - accuracy: 0.6464\n",
            "Epoch 12/100\n",
            "7192/7192 [==============================] - 9s 1ms/step - loss: 0.9078 - accuracy: 0.6487\n",
            "Epoch 13/100\n",
            "7192/7192 [==============================] - 9s 1ms/step - loss: 0.8998 - accuracy: 0.6514\n",
            "Epoch 14/100\n",
            "7192/7192 [==============================] - 9s 1ms/step - loss: 0.9000 - accuracy: 0.6497\n",
            "Epoch 15/100\n",
            "7192/7192 [==============================] - 9s 1ms/step - loss: 0.8872 - accuracy: 0.6581\n",
            "Epoch 16/100\n",
            "7192/7192 [==============================] - 9s 1ms/step - loss: 0.8796 - accuracy: 0.6585\n",
            "Epoch 17/100\n",
            "7192/7192 [==============================] - 9s 1ms/step - loss: 0.8735 - accuracy: 0.6603\n",
            "Epoch 18/100\n",
            "7192/7192 [==============================] - 10s 1ms/step - loss: 0.8679 - accuracy: 0.6618\n",
            "Epoch 19/100\n",
            "7192/7192 [==============================] - 10s 1ms/step - loss: 0.8640 - accuracy: 0.6625\n",
            "Epoch 20/100\n",
            "7192/7192 [==============================] - 9s 1ms/step - loss: 0.8589 - accuracy: 0.6655\n",
            "Epoch 21/100\n",
            "7192/7192 [==============================] - 10s 1ms/step - loss: 0.8586 - accuracy: 0.6665\n",
            "Epoch 22/100\n",
            "7192/7192 [==============================] - 9s 1ms/step - loss: 0.8516 - accuracy: 0.6665\n",
            "Epoch 23/100\n",
            "7192/7192 [==============================] - 9s 1ms/step - loss: 0.8465 - accuracy: 0.6712\n",
            "Epoch 24/100\n",
            "7192/7192 [==============================] - 9s 1ms/step - loss: 0.8351 - accuracy: 0.6779\n",
            "Epoch 25/100\n",
            "7192/7192 [==============================] - 9s 1ms/step - loss: 0.8409 - accuracy: 0.6728\n",
            "Epoch 26/100\n",
            "7192/7192 [==============================] - 9s 1ms/step - loss: 0.8360 - accuracy: 0.6750\n",
            "Epoch 27/100\n",
            "7192/7192 [==============================] - 9s 1ms/step - loss: 0.8329 - accuracy: 0.6773\n",
            "Epoch 28/100\n",
            "7192/7192 [==============================] - 9s 1ms/step - loss: 0.8282 - accuracy: 0.6792\n",
            "Epoch 29/100\n",
            "7192/7192 [==============================] - 9s 1ms/step - loss: 0.8262 - accuracy: 0.6768\n",
            "Epoch 30/100\n",
            "7192/7192 [==============================] - 9s 1ms/step - loss: 0.8207 - accuracy: 0.6822\n",
            "Epoch 31/100\n",
            "7192/7192 [==============================] - 9s 1ms/step - loss: 0.8193 - accuracy: 0.6826\n",
            "Epoch 32/100\n",
            "7192/7192 [==============================] - 9s 1ms/step - loss: 0.8154 - accuracy: 0.6848\n",
            "Epoch 33/100\n",
            "7192/7192 [==============================] - 9s 1ms/step - loss: 0.8174 - accuracy: 0.6817\n",
            "Epoch 34/100\n",
            "7192/7192 [==============================] - 9s 1ms/step - loss: 0.8146 - accuracy: 0.6841\n",
            "Epoch 35/100\n",
            "7192/7192 [==============================] - 9s 1ms/step - loss: 0.8103 - accuracy: 0.6852\n",
            "Epoch 36/100\n",
            "7192/7192 [==============================] - 9s 1ms/step - loss: 0.8061 - accuracy: 0.6838\n",
            "Epoch 37/100\n",
            "7192/7192 [==============================] - 9s 1ms/step - loss: 0.8028 - accuracy: 0.6865\n",
            "Epoch 38/100\n",
            "7192/7192 [==============================] - 9s 1ms/step - loss: 0.7970 - accuracy: 0.6885\n",
            "Epoch 39/100\n",
            "7192/7192 [==============================] - 9s 1ms/step - loss: 0.7879 - accuracy: 0.6946\n",
            "Epoch 40/100\n",
            "7192/7192 [==============================] - 9s 1ms/step - loss: 0.7772 - accuracy: 0.6956\n",
            "Epoch 41/100\n",
            "7192/7192 [==============================] - 9s 1ms/step - loss: 0.7709 - accuracy: 0.7001\n",
            "Epoch 42/100\n",
            "7192/7192 [==============================] - 9s 1ms/step - loss: 0.7749 - accuracy: 0.6981\n",
            "Epoch 43/100\n",
            "7192/7192 [==============================] - 9s 1ms/step - loss: 0.7732 - accuracy: 0.7009\n",
            "Epoch 44/100\n",
            "7192/7192 [==============================] - 9s 1ms/step - loss: 0.7636 - accuracy: 0.7011\n",
            "Epoch 45/100\n",
            "7192/7192 [==============================] - 9s 1ms/step - loss: 0.7717 - accuracy: 0.6964\n",
            "Epoch 46/100\n",
            "7192/7192 [==============================] - 9s 1ms/step - loss: 0.7526 - accuracy: 0.7047\n",
            "Epoch 47/100\n",
            "7192/7192 [==============================] - 9s 1ms/step - loss: 0.7504 - accuracy: 0.7065\n",
            "Epoch 48/100\n",
            "7192/7192 [==============================] - 9s 1ms/step - loss: 0.7513 - accuracy: 0.7036\n",
            "Epoch 49/100\n",
            "7192/7192 [==============================] - 9s 1ms/step - loss: 0.7525 - accuracy: 0.7044\n",
            "Epoch 50/100\n",
            "7192/7192 [==============================] - 9s 1ms/step - loss: 0.7461 - accuracy: 0.7061\n",
            "Epoch 51/100\n",
            "7192/7192 [==============================] - 9s 1ms/step - loss: 0.7513 - accuracy: 0.7059\n",
            "Epoch 52/100\n",
            "7192/7192 [==============================] - 10s 1ms/step - loss: 0.7451 - accuracy: 0.7103\n",
            "Epoch 53/100\n",
            "7192/7192 [==============================] - 12s 2ms/step - loss: 0.7430 - accuracy: 0.7078\n",
            "Epoch 54/100\n",
            "7192/7192 [==============================] - 11s 2ms/step - loss: 0.7475 - accuracy: 0.7087\n",
            "Epoch 55/100\n",
            "7192/7192 [==============================] - 9s 1ms/step - loss: 0.7401 - accuracy: 0.7127\n",
            "Epoch 56/100\n",
            "7192/7192 [==============================] - 9s 1ms/step - loss: 0.7407 - accuracy: 0.7065\n",
            "Epoch 57/100\n",
            "7192/7192 [==============================] - 9s 1ms/step - loss: 0.7368 - accuracy: 0.7115\n",
            "Epoch 58/100\n",
            "7192/7192 [==============================] - 9s 1ms/step - loss: 0.7416 - accuracy: 0.7077\n",
            "Epoch 59/100\n",
            "7192/7192 [==============================] - 9s 1ms/step - loss: 0.7394 - accuracy: 0.7142\n",
            "Epoch 60/100\n",
            "7192/7192 [==============================] - 9s 1ms/step - loss: 0.7439 - accuracy: 0.7085\n",
            "Epoch 61/100\n",
            "7192/7192 [==============================] - 9s 1ms/step - loss: 0.7330 - accuracy: 0.7113\n",
            "Epoch 62/100\n",
            "7192/7192 [==============================] - 9s 1ms/step - loss: 0.7415 - accuracy: 0.7083\n",
            "Epoch 63/100\n",
            "7192/7192 [==============================] - 9s 1ms/step - loss: 0.7315 - accuracy: 0.7142\n",
            "Epoch 64/100\n",
            "7192/7192 [==============================] - 9s 1ms/step - loss: 0.7477 - accuracy: 0.7053\n",
            "Epoch 65/100\n",
            "7192/7192 [==============================] - 9s 1ms/step - loss: 0.7477 - accuracy: 0.7066\n",
            "Epoch 66/100\n",
            "7192/7192 [==============================] - 9s 1ms/step - loss: 0.7408 - accuracy: 0.7121\n",
            "Epoch 67/100\n",
            "7192/7192 [==============================] - 9s 1ms/step - loss: 0.7361 - accuracy: 0.7138\n",
            "Epoch 68/100\n",
            "7192/7192 [==============================] - 9s 1ms/step - loss: 0.7432 - accuracy: 0.7091\n",
            "Epoch 69/100\n",
            "7192/7192 [==============================] - 9s 1ms/step - loss: 0.7313 - accuracy: 0.7136\n",
            "Epoch 70/100\n",
            "7192/7192 [==============================] - 9s 1ms/step - loss: 0.7268 - accuracy: 0.7146\n",
            "Epoch 71/100\n",
            "7192/7192 [==============================] - 9s 1ms/step - loss: 0.7276 - accuracy: 0.7170\n",
            "Epoch 72/100\n",
            "7192/7192 [==============================] - 9s 1ms/step - loss: 0.7318 - accuracy: 0.7151\n",
            "Epoch 73/100\n",
            "7192/7192 [==============================] - 9s 1ms/step - loss: 0.7259 - accuracy: 0.7154\n",
            "Epoch 74/100\n",
            "7192/7192 [==============================] - 9s 1ms/step - loss: 0.7232 - accuracy: 0.7203\n",
            "Epoch 75/100\n",
            "7192/7192 [==============================] - 9s 1ms/step - loss: 0.7286 - accuracy: 0.7173\n",
            "Epoch 76/100\n",
            "7192/7192 [==============================] - 9s 1ms/step - loss: 0.7250 - accuracy: 0.7189\n",
            "Epoch 77/100\n",
            "7192/7192 [==============================] - 9s 1ms/step - loss: 0.7271 - accuracy: 0.7159\n",
            "Epoch 78/100\n",
            "7192/7192 [==============================] - 9s 1ms/step - loss: 0.7099 - accuracy: 0.7225\n",
            "Epoch 79/100\n",
            "7192/7192 [==============================] - 9s 1ms/step - loss: 0.7262 - accuracy: 0.7170\n",
            "Epoch 80/100\n",
            "7192/7192 [==============================] - 9s 1ms/step - loss: 0.7189 - accuracy: 0.7167\n",
            "Epoch 81/100\n",
            "7192/7192 [==============================] - 9s 1ms/step - loss: 0.7194 - accuracy: 0.7174\n",
            "Epoch 82/100\n",
            "7192/7192 [==============================] - 9s 1ms/step - loss: 0.7136 - accuracy: 0.7207\n",
            "Epoch 83/100\n",
            "7192/7192 [==============================] - 9s 1ms/step - loss: 0.7180 - accuracy: 0.7198\n",
            "Epoch 84/100\n",
            "7192/7192 [==============================] - 9s 1ms/step - loss: 0.7169 - accuracy: 0.7190\n",
            "Epoch 85/100\n",
            "7192/7192 [==============================] - 9s 1ms/step - loss: 0.7126 - accuracy: 0.7214\n",
            "Epoch 86/100\n",
            "7192/7192 [==============================] - 10s 1ms/step - loss: 0.7119 - accuracy: 0.7242\n",
            "Epoch 87/100\n",
            "7192/7192 [==============================] - 10s 1ms/step - loss: 0.7078 - accuracy: 0.7224\n",
            "Epoch 88/100\n",
            "7192/7192 [==============================] - 9s 1ms/step - loss: 0.7192 - accuracy: 0.7182\n",
            "Epoch 89/100\n",
            "7192/7192 [==============================] - 9s 1ms/step - loss: 0.7201 - accuracy: 0.7187\n",
            "Epoch 90/100\n",
            "7192/7192 [==============================] - 9s 1ms/step - loss: 0.7073 - accuracy: 0.7245\n",
            "Epoch 91/100\n",
            "7192/7192 [==============================] - 9s 1ms/step - loss: 0.7139 - accuracy: 0.7237\n",
            "Epoch 92/100\n",
            "7192/7192 [==============================] - 9s 1ms/step - loss: 0.7137 - accuracy: 0.7204\n",
            "Epoch 93/100\n",
            "7192/7192 [==============================] - 9s 1ms/step - loss: 0.7038 - accuracy: 0.7244\n",
            "Epoch 94/100\n",
            "7192/7192 [==============================] - 9s 1ms/step - loss: 0.7102 - accuracy: 0.7214\n",
            "Epoch 95/100\n",
            "7192/7192 [==============================] - 9s 1ms/step - loss: 0.7113 - accuracy: 0.7207\n",
            "Epoch 96/100\n",
            "7192/7192 [==============================] - 9s 1ms/step - loss: 0.7144 - accuracy: 0.7196\n",
            "Epoch 97/100\n",
            "7192/7192 [==============================] - 9s 1ms/step - loss: 0.7072 - accuracy: 0.7244\n",
            "Epoch 98/100\n",
            "7192/7192 [==============================] - 9s 1ms/step - loss: 0.7102 - accuracy: 0.7206\n",
            "Epoch 99/100\n",
            "7192/7192 [==============================] - 9s 1ms/step - loss: 0.7214 - accuracy: 0.7151\n",
            "Epoch 100/100\n",
            "7192/7192 [==============================] - 9s 1ms/step - loss: 0.7118 - accuracy: 0.7241\n",
            "3596/3596 [==============================] - 3s 804us/step - loss: 0.6271 - accuracy: 0.7487\n",
            "Epoch 1/100\n",
            "7192/7192 [==============================] - 9s 1ms/step - loss: 1.2705 - accuracy: 0.5023\n",
            "Epoch 2/100\n",
            "7192/7192 [==============================] - 9s 1ms/step - loss: 1.1436 - accuracy: 0.5573\n",
            "Epoch 3/100\n",
            "7192/7192 [==============================] - 9s 1ms/step - loss: 1.0789 - accuracy: 0.5787\n",
            "Epoch 4/100\n",
            "7192/7192 [==============================] - 9s 1ms/step - loss: 1.0053 - accuracy: 0.6031\n",
            "Epoch 5/100\n",
            "7192/7192 [==============================] - 9s 1ms/step - loss: 0.9641 - accuracy: 0.6160\n",
            "Epoch 6/100\n",
            "7192/7192 [==============================] - 9s 1ms/step - loss: 0.9386 - accuracy: 0.6281\n",
            "Epoch 7/100\n",
            "7192/7192 [==============================] - 9s 1ms/step - loss: 0.9211 - accuracy: 0.6385\n",
            "Epoch 8/100\n",
            "7192/7192 [==============================] - 9s 1ms/step - loss: 0.9206 - accuracy: 0.6376\n",
            "Epoch 9/100\n",
            "7192/7192 [==============================] - 9s 1ms/step - loss: 0.9015 - accuracy: 0.6440\n",
            "Epoch 10/100\n",
            "7192/7192 [==============================] - 10s 1ms/step - loss: 0.8961 - accuracy: 0.6488\n",
            "Epoch 11/100\n",
            "7192/7192 [==============================] - 9s 1ms/step - loss: 0.8911 - accuracy: 0.6495\n",
            "Epoch 12/100\n",
            "7192/7192 [==============================] - 9s 1ms/step - loss: 0.8919 - accuracy: 0.6486\n",
            "Epoch 13/100\n",
            "7192/7192 [==============================] - 9s 1ms/step - loss: 0.8906 - accuracy: 0.6524\n",
            "Epoch 14/100\n",
            "7192/7192 [==============================] - 9s 1ms/step - loss: 0.8881 - accuracy: 0.6502\n",
            "Epoch 15/100\n",
            "7192/7192 [==============================] - 9s 1ms/step - loss: 0.8795 - accuracy: 0.6544\n",
            "Epoch 16/100\n",
            "7192/7192 [==============================] - 9s 1ms/step - loss: 0.8803 - accuracy: 0.6576\n",
            "Epoch 17/100\n",
            "7192/7192 [==============================] - 9s 1ms/step - loss: 0.8768 - accuracy: 0.6555\n",
            "Epoch 18/100\n",
            "7192/7192 [==============================] - 9s 1ms/step - loss: 0.8701 - accuracy: 0.6607\n",
            "Epoch 19/100\n",
            "7192/7192 [==============================] - 13s 2ms/step - loss: 0.8714 - accuracy: 0.6596\n",
            "Epoch 20/100\n",
            "7192/7192 [==============================] - 11s 2ms/step - loss: 0.8671 - accuracy: 0.6587\n",
            "Epoch 21/100\n",
            "7192/7192 [==============================] - 9s 1ms/step - loss: 0.8558 - accuracy: 0.6659\n",
            "Epoch 22/100\n",
            "7192/7192 [==============================] - 9s 1ms/step - loss: 0.8580 - accuracy: 0.6670\n",
            "Epoch 23/100\n",
            "7192/7192 [==============================] - 9s 1ms/step - loss: 0.8549 - accuracy: 0.6660\n",
            "Epoch 24/100\n",
            "7192/7192 [==============================] - 9s 1ms/step - loss: 0.8490 - accuracy: 0.6660\n",
            "Epoch 25/100\n",
            "7192/7192 [==============================] - 9s 1ms/step - loss: 0.8435 - accuracy: 0.6693\n",
            "Epoch 26/100\n",
            "7192/7192 [==============================] - 9s 1ms/step - loss: 0.8462 - accuracy: 0.6673\n",
            "Epoch 27/100\n",
            "7192/7192 [==============================] - 9s 1ms/step - loss: 0.8411 - accuracy: 0.6688\n",
            "Epoch 28/100\n",
            "7192/7192 [==============================] - 9s 1ms/step - loss: 0.8459 - accuracy: 0.6686\n",
            "Epoch 29/100\n",
            "7192/7192 [==============================] - 9s 1ms/step - loss: 0.8384 - accuracy: 0.6729\n",
            "Epoch 30/100\n",
            "7192/7192 [==============================] - 9s 1ms/step - loss: 0.8348 - accuracy: 0.6739\n",
            "Epoch 31/100\n",
            "7192/7192 [==============================] - 9s 1ms/step - loss: 0.8386 - accuracy: 0.6713\n",
            "Epoch 32/100\n",
            "7192/7192 [==============================] - 9s 1ms/step - loss: 0.8259 - accuracy: 0.6782\n",
            "Epoch 33/100\n",
            "7192/7192 [==============================] - 9s 1ms/step - loss: 0.8265 - accuracy: 0.6778\n",
            "Epoch 34/100\n",
            "7192/7192 [==============================] - 9s 1ms/step - loss: 0.8220 - accuracy: 0.6802\n",
            "Epoch 35/100\n",
            "7192/7192 [==============================] - 9s 1ms/step - loss: 0.8162 - accuracy: 0.6807\n",
            "Epoch 36/100\n",
            "7192/7192 [==============================] - 9s 1ms/step - loss: 0.8219 - accuracy: 0.6795\n",
            "Epoch 37/100\n",
            "7192/7192 [==============================] - 9s 1ms/step - loss: 0.8169 - accuracy: 0.6789\n",
            "Epoch 38/100\n",
            "7192/7192 [==============================] - 9s 1ms/step - loss: 0.8081 - accuracy: 0.6836\n",
            "Epoch 39/100\n",
            "7192/7192 [==============================] - 9s 1ms/step - loss: 0.8124 - accuracy: 0.6831\n",
            "Epoch 40/100\n",
            "7192/7192 [==============================] - 9s 1ms/step - loss: 0.8012 - accuracy: 0.6873\n",
            "Epoch 41/100\n",
            "7192/7192 [==============================] - 9s 1ms/step - loss: 0.7973 - accuracy: 0.6873\n",
            "Epoch 42/100\n",
            "7192/7192 [==============================] - 9s 1ms/step - loss: 0.8047 - accuracy: 0.6872\n",
            "Epoch 43/100\n",
            "7192/7192 [==============================] - 9s 1ms/step - loss: 0.7878 - accuracy: 0.6885\n",
            "Epoch 44/100\n",
            "7192/7192 [==============================] - 9s 1ms/step - loss: 0.7736 - accuracy: 0.6927\n",
            "Epoch 45/100\n",
            "7192/7192 [==============================] - 9s 1ms/step - loss: 0.7639 - accuracy: 0.7002\n",
            "Epoch 46/100\n",
            "7192/7192 [==============================] - 9s 1ms/step - loss: 0.7613 - accuracy: 0.6999\n",
            "Epoch 47/100\n",
            "7192/7192 [==============================] - 9s 1ms/step - loss: 0.7500 - accuracy: 0.7039\n",
            "Epoch 48/100\n",
            "7192/7192 [==============================] - 9s 1ms/step - loss: 0.7642 - accuracy: 0.7016\n",
            "Epoch 49/100\n",
            "7192/7192 [==============================] - 9s 1ms/step - loss: 0.7778 - accuracy: 0.6971\n",
            "Epoch 50/100\n",
            "7192/7192 [==============================] - 9s 1ms/step - loss: 0.7454 - accuracy: 0.7083\n",
            "Epoch 51/100\n",
            "7192/7192 [==============================] - 9s 1ms/step - loss: 0.7473 - accuracy: 0.7080\n",
            "Epoch 52/100\n",
            "7192/7192 [==============================] - 9s 1ms/step - loss: 0.7592 - accuracy: 0.7051\n",
            "Epoch 53/100\n",
            "7192/7192 [==============================] - 11s 1ms/step - loss: 0.7667 - accuracy: 0.7044\n",
            "Epoch 54/100\n",
            "7192/7192 [==============================] - 9s 1ms/step - loss: 0.7656 - accuracy: 0.7017\n",
            "Epoch 55/100\n",
            "7192/7192 [==============================] - 9s 1ms/step - loss: 0.7831 - accuracy: 0.6960\n",
            "Epoch 56/100\n",
            "7192/7192 [==============================] - 9s 1ms/step - loss: 0.7850 - accuracy: 0.6945\n",
            "Epoch 57/100\n",
            "7192/7192 [==============================] - 9s 1ms/step - loss: 0.7759 - accuracy: 0.6983\n",
            "Epoch 58/100\n",
            "7192/7192 [==============================] - 9s 1ms/step - loss: 0.7868 - accuracy: 0.6978\n",
            "Epoch 59/100\n",
            "7192/7192 [==============================] - 9s 1ms/step - loss: 0.7617 - accuracy: 0.7006\n",
            "Epoch 60/100\n",
            "7192/7192 [==============================] - 9s 1ms/step - loss: 0.7773 - accuracy: 0.7000\n",
            "Epoch 61/100\n",
            "7192/7192 [==============================] - 9s 1ms/step - loss: 0.7717 - accuracy: 0.7026\n",
            "Epoch 62/100\n",
            "7192/7192 [==============================] - 9s 1ms/step - loss: 0.7700 - accuracy: 0.7021\n",
            "Epoch 63/100\n",
            "7192/7192 [==============================] - 9s 1ms/step - loss: 0.7705 - accuracy: 0.7018\n",
            "Epoch 64/100\n",
            "7192/7192 [==============================] - 9s 1ms/step - loss: 0.7835 - accuracy: 0.6994\n",
            "Epoch 65/100\n",
            "7192/7192 [==============================] - 9s 1ms/step - loss: 0.7648 - accuracy: 0.7028\n",
            "Epoch 66/100\n",
            "7192/7192 [==============================] - 9s 1ms/step - loss: 0.7565 - accuracy: 0.7046\n",
            "Epoch 67/100\n",
            "7192/7192 [==============================] - 9s 1ms/step - loss: 0.7648 - accuracy: 0.7031\n",
            "Epoch 68/100\n",
            "7192/7192 [==============================] - 10s 1ms/step - loss: 0.7660 - accuracy: 0.7001\n",
            "Epoch 69/100\n",
            "7192/7192 [==============================] - 9s 1ms/step - loss: 0.7859 - accuracy: 0.6957\n",
            "Epoch 70/100\n",
            "7192/7192 [==============================] - 9s 1ms/step - loss: 0.7732 - accuracy: 0.6993\n",
            "Epoch 71/100\n",
            "7192/7192 [==============================] - 9s 1ms/step - loss: 0.7677 - accuracy: 0.7032\n",
            "Epoch 72/100\n",
            "7192/7192 [==============================] - 9s 1ms/step - loss: 0.7796 - accuracy: 0.6970\n",
            "Epoch 73/100\n",
            "7192/7192 [==============================] - 9s 1ms/step - loss: 0.7716 - accuracy: 0.7014\n",
            "Epoch 74/100\n",
            "7192/7192 [==============================] - 9s 1ms/step - loss: 0.7635 - accuracy: 0.7049\n",
            "Epoch 75/100\n",
            "7192/7192 [==============================] - 9s 1ms/step - loss: 0.7722 - accuracy: 0.7028\n",
            "Epoch 76/100\n",
            "7192/7192 [==============================] - 9s 1ms/step - loss: 0.7582 - accuracy: 0.7057\n",
            "Epoch 77/100\n",
            "7192/7192 [==============================] - 9s 1ms/step - loss: 0.7525 - accuracy: 0.7064\n",
            "Epoch 78/100\n",
            "7192/7192 [==============================] - 9s 1ms/step - loss: 0.7542 - accuracy: 0.7078\n",
            "Epoch 79/100\n",
            "7192/7192 [==============================] - 10s 1ms/step - loss: 0.7443 - accuracy: 0.7108\n",
            "Epoch 80/100\n",
            "7192/7192 [==============================] - 9s 1ms/step - loss: 0.7541 - accuracy: 0.7060\n",
            "Epoch 81/100\n",
            "7192/7192 [==============================] - 9s 1ms/step - loss: 0.7488 - accuracy: 0.7092\n",
            "Epoch 82/100\n",
            "7192/7192 [==============================] - 9s 1ms/step - loss: 0.7524 - accuracy: 0.7057\n",
            "Epoch 83/100\n",
            "7192/7192 [==============================] - 9s 1ms/step - loss: 0.7512 - accuracy: 0.7087\n",
            "Epoch 84/100\n",
            "7192/7192 [==============================] - 9s 1ms/step - loss: 0.7427 - accuracy: 0.7105\n",
            "Epoch 85/100\n",
            "7192/7192 [==============================] - 14s 2ms/step - loss: 0.7393 - accuracy: 0.7120\n",
            "Epoch 86/100\n",
            "7192/7192 [==============================] - 10s 1ms/step - loss: 0.7335 - accuracy: 0.7161\n",
            "Epoch 87/100\n",
            "7192/7192 [==============================] - 9s 1ms/step - loss: 0.7384 - accuracy: 0.7090\n",
            "Epoch 88/100\n",
            "7192/7192 [==============================] - 9s 1ms/step - loss: 0.7420 - accuracy: 0.7112\n",
            "Epoch 89/100\n",
            "7192/7192 [==============================] - 9s 1ms/step - loss: 0.7491 - accuracy: 0.7104\n",
            "Epoch 90/100\n",
            "7192/7192 [==============================] - 9s 1ms/step - loss: 0.7383 - accuracy: 0.7105\n",
            "Epoch 91/100\n",
            "7192/7192 [==============================] - 9s 1ms/step - loss: 0.7274 - accuracy: 0.7162\n",
            "Epoch 92/100\n",
            "7192/7192 [==============================] - 9s 1ms/step - loss: 0.7344 - accuracy: 0.7152\n",
            "Epoch 93/100\n",
            "7192/7192 [==============================] - 9s 1ms/step - loss: 0.7468 - accuracy: 0.7102\n",
            "Epoch 94/100\n",
            "7192/7192 [==============================] - 9s 1ms/step - loss: 0.7591 - accuracy: 0.7068\n",
            "Epoch 95/100\n",
            "7192/7192 [==============================] - 9s 1ms/step - loss: 0.7425 - accuracy: 0.7117\n",
            "Epoch 96/100\n",
            "7192/7192 [==============================] - 9s 1ms/step - loss: 0.7304 - accuracy: 0.7136\n",
            "Epoch 97/100\n",
            "7192/7192 [==============================] - 9s 1ms/step - loss: 0.7364 - accuracy: 0.7096\n",
            "Epoch 98/100\n",
            "7192/7192 [==============================] - 9s 1ms/step - loss: 0.7408 - accuracy: 0.7118\n",
            "Epoch 99/100\n",
            "7192/7192 [==============================] - 9s 1ms/step - loss: 0.7427 - accuracy: 0.7096\n",
            "Epoch 100/100\n",
            "7192/7192 [==============================] - 9s 1ms/step - loss: 0.7359 - accuracy: 0.7087\n",
            "3596/3596 [==============================] - 3s 820us/step - loss: 0.8001 - accuracy: 0.6898\n",
            "Epoch 1/100\n",
            "7192/7192 [==============================] - 9s 1ms/step - loss: 1.2582 - accuracy: 0.5006\n",
            "Epoch 2/100\n",
            "7192/7192 [==============================] - 9s 1ms/step - loss: 1.1487 - accuracy: 0.5534\n",
            "Epoch 3/100\n",
            "7192/7192 [==============================] - 9s 1ms/step - loss: 1.0960 - accuracy: 0.5730\n",
            "Epoch 4/100\n",
            "7192/7192 [==============================] - 9s 1ms/step - loss: 1.0209 - accuracy: 0.5946\n",
            "Epoch 5/100\n",
            "7192/7192 [==============================] - 9s 1ms/step - loss: 0.9691 - accuracy: 0.6155\n",
            "Epoch 6/100\n",
            "7192/7192 [==============================] - 9s 1ms/step - loss: 0.9416 - accuracy: 0.6278\n",
            "Epoch 7/100\n",
            "7192/7192 [==============================] - 9s 1ms/step - loss: 0.9285 - accuracy: 0.6353\n",
            "Epoch 8/100\n",
            "7192/7192 [==============================] - 9s 1ms/step - loss: 0.9140 - accuracy: 0.6405\n",
            "Epoch 9/100\n",
            "7192/7192 [==============================] - 9s 1ms/step - loss: 0.9119 - accuracy: 0.6383\n",
            "Epoch 10/100\n",
            "7192/7192 [==============================] - 9s 1ms/step - loss: 0.8999 - accuracy: 0.6481\n",
            "Epoch 11/100\n",
            "7192/7192 [==============================] - 9s 1ms/step - loss: 0.8902 - accuracy: 0.6521\n",
            "Epoch 12/100\n",
            "7192/7192 [==============================] - 9s 1ms/step - loss: 0.8844 - accuracy: 0.6556\n",
            "Epoch 13/100\n",
            "7192/7192 [==============================] - 9s 1ms/step - loss: 0.8705 - accuracy: 0.6600\n",
            "Epoch 14/100\n",
            "7192/7192 [==============================] - 9s 1ms/step - loss: 0.8682 - accuracy: 0.6598\n",
            "Epoch 15/100\n",
            "7192/7192 [==============================] - 9s 1ms/step - loss: 0.8683 - accuracy: 0.6604\n",
            "Epoch 16/100\n",
            "7192/7192 [==============================] - 9s 1ms/step - loss: 0.8567 - accuracy: 0.6653\n",
            "Epoch 17/100\n",
            "7192/7192 [==============================] - 9s 1ms/step - loss: 0.8523 - accuracy: 0.6670\n",
            "Epoch 18/100\n",
            "7192/7192 [==============================] - 9s 1ms/step - loss: 0.8488 - accuracy: 0.6677\n",
            "Epoch 19/100\n",
            "7192/7192 [==============================] - 10s 1ms/step - loss: 0.8472 - accuracy: 0.6711\n",
            "Epoch 20/100\n",
            "7192/7192 [==============================] - 10s 1ms/step - loss: 0.8487 - accuracy: 0.6691\n",
            "Epoch 21/100\n",
            "7192/7192 [==============================] - 9s 1ms/step - loss: 0.8378 - accuracy: 0.6735\n",
            "Epoch 22/100\n",
            "7192/7192 [==============================] - 9s 1ms/step - loss: 0.8397 - accuracy: 0.6725\n",
            "Epoch 23/100\n",
            "7192/7192 [==============================] - 9s 1ms/step - loss: 0.8443 - accuracy: 0.6686\n",
            "Epoch 24/100\n",
            "7192/7192 [==============================] - 9s 1ms/step - loss: 0.8371 - accuracy: 0.6750\n",
            "Epoch 25/100\n",
            "7192/7192 [==============================] - 9s 1ms/step - loss: 0.8291 - accuracy: 0.6791\n",
            "Epoch 26/100\n",
            "7192/7192 [==============================] - 9s 1ms/step - loss: 0.8369 - accuracy: 0.6764\n",
            "Epoch 27/100\n",
            "7192/7192 [==============================] - 9s 1ms/step - loss: 0.8320 - accuracy: 0.6783\n",
            "Epoch 28/100\n",
            "7192/7192 [==============================] - 9s 1ms/step - loss: 0.8308 - accuracy: 0.6773\n",
            "Epoch 29/100\n",
            "7192/7192 [==============================] - 9s 1ms/step - loss: 0.8315 - accuracy: 0.6767\n",
            "Epoch 30/100\n",
            "7192/7192 [==============================] - 9s 1ms/step - loss: 0.8289 - accuracy: 0.6806\n",
            "Epoch 31/100\n",
            "7192/7192 [==============================] - 9s 1ms/step - loss: 0.8261 - accuracy: 0.6827\n",
            "Epoch 32/100\n",
            "7192/7192 [==============================] - 9s 1ms/step - loss: 0.8162 - accuracy: 0.6843\n",
            "Epoch 33/100\n",
            "7192/7192 [==============================] - 9s 1ms/step - loss: 0.8273 - accuracy: 0.6799\n",
            "Epoch 34/100\n",
            "7192/7192 [==============================] - 9s 1ms/step - loss: 0.8161 - accuracy: 0.6860\n",
            "Epoch 35/100\n",
            "7192/7192 [==============================] - 9s 1ms/step - loss: 0.8230 - accuracy: 0.6825\n",
            "Epoch 36/100\n",
            "7192/7192 [==============================] - 9s 1ms/step - loss: 0.8136 - accuracy: 0.6853\n",
            "Epoch 37/100\n",
            "7192/7192 [==============================] - 9s 1ms/step - loss: 0.8164 - accuracy: 0.6834\n",
            "Epoch 38/100\n",
            "7192/7192 [==============================] - 9s 1ms/step - loss: 0.8140 - accuracy: 0.6843\n",
            "Epoch 39/100\n",
            "7192/7192 [==============================] - 9s 1ms/step - loss: 0.8058 - accuracy: 0.6862\n",
            "Epoch 40/100\n",
            "7192/7192 [==============================] - 9s 1ms/step - loss: 0.8032 - accuracy: 0.6905\n",
            "Epoch 41/100\n",
            "7192/7192 [==============================] - 9s 1ms/step - loss: 0.8030 - accuracy: 0.6894\n",
            "Epoch 42/100\n",
            "7192/7192 [==============================] - 9s 1ms/step - loss: 0.7893 - accuracy: 0.6949\n",
            "Epoch 43/100\n",
            "7192/7192 [==============================] - 9s 1ms/step - loss: 0.7973 - accuracy: 0.6903\n",
            "Epoch 44/100\n",
            "7192/7192 [==============================] - 9s 1ms/step - loss: 0.8108 - accuracy: 0.6868\n",
            "Epoch 45/100\n",
            "7192/7192 [==============================] - 9s 1ms/step - loss: 0.8024 - accuracy: 0.6904\n",
            "Epoch 46/100\n",
            "7192/7192 [==============================] - 9s 1ms/step - loss: 0.7979 - accuracy: 0.6926\n",
            "Epoch 47/100\n",
            "7192/7192 [==============================] - 9s 1ms/step - loss: 0.7826 - accuracy: 0.6976\n",
            "Epoch 48/100\n",
            "7192/7192 [==============================] - 9s 1ms/step - loss: 0.7772 - accuracy: 0.6989\n",
            "Epoch 49/100\n",
            "7192/7192 [==============================] - 9s 1ms/step - loss: 0.7796 - accuracy: 0.6985\n",
            "Epoch 50/100\n",
            "7192/7192 [==============================] - 10s 1ms/step - loss: 0.7831 - accuracy: 0.6968\n",
            "Epoch 51/100\n",
            "7192/7192 [==============================] - 13s 2ms/step - loss: 0.7798 - accuracy: 0.6973\n",
            "Epoch 52/100\n",
            "7192/7192 [==============================] - 10s 1ms/step - loss: 0.7757 - accuracy: 0.6998\n",
            "Epoch 53/100\n",
            "7192/7192 [==============================] - 10s 1ms/step - loss: 0.7662 - accuracy: 0.7025\n",
            "Epoch 54/100\n",
            "7192/7192 [==============================] - 9s 1ms/step - loss: 0.7752 - accuracy: 0.6990\n",
            "Epoch 55/100\n",
            "7192/7192 [==============================] - 9s 1ms/step - loss: 0.7665 - accuracy: 0.7019\n",
            "Epoch 56/100\n",
            "7192/7192 [==============================] - 9s 1ms/step - loss: 0.7728 - accuracy: 0.7017\n",
            "Epoch 57/100\n",
            "7192/7192 [==============================] - 9s 1ms/step - loss: 0.7688 - accuracy: 0.7031\n",
            "Epoch 58/100\n",
            "7192/7192 [==============================] - 9s 1ms/step - loss: 0.7703 - accuracy: 0.6999\n",
            "Epoch 59/100\n",
            "7192/7192 [==============================] - 9s 1ms/step - loss: 0.7803 - accuracy: 0.7017\n",
            "Epoch 60/100\n",
            "7192/7192 [==============================] - 9s 1ms/step - loss: 0.7756 - accuracy: 0.7004\n",
            "Epoch 61/100\n",
            "7192/7192 [==============================] - 9s 1ms/step - loss: 0.7764 - accuracy: 0.6977\n",
            "Epoch 62/100\n",
            "7192/7192 [==============================] - 9s 1ms/step - loss: 0.7617 - accuracy: 0.7043\n",
            "Epoch 63/100\n",
            "7192/7192 [==============================] - 9s 1ms/step - loss: 0.7617 - accuracy: 0.7066\n",
            "Epoch 64/100\n",
            "7192/7192 [==============================] - 9s 1ms/step - loss: 0.7642 - accuracy: 0.7041\n",
            "Epoch 65/100\n",
            "7192/7192 [==============================] - 9s 1ms/step - loss: 0.7628 - accuracy: 0.7060\n",
            "Epoch 66/100\n",
            "7192/7192 [==============================] - 9s 1ms/step - loss: 0.7633 - accuracy: 0.7002\n",
            "Epoch 67/100\n",
            "7192/7192 [==============================] - 9s 1ms/step - loss: 0.7678 - accuracy: 0.7040\n",
            "Epoch 68/100\n",
            "7192/7192 [==============================] - 9s 1ms/step - loss: 0.7636 - accuracy: 0.7038\n",
            "Epoch 69/100\n",
            "7192/7192 [==============================] - 9s 1ms/step - loss: 0.7633 - accuracy: 0.7039\n",
            "Epoch 70/100\n",
            "7192/7192 [==============================] - 9s 1ms/step - loss: 0.7642 - accuracy: 0.7056\n",
            "Epoch 71/100\n",
            "7192/7192 [==============================] - 9s 1ms/step - loss: 0.7503 - accuracy: 0.7061\n",
            "Epoch 72/100\n",
            "7192/7192 [==============================] - 9s 1ms/step - loss: 0.7627 - accuracy: 0.7032\n",
            "Epoch 73/100\n",
            "7192/7192 [==============================] - 9s 1ms/step - loss: 0.7592 - accuracy: 0.7072\n",
            "Epoch 74/100\n",
            "7192/7192 [==============================] - 9s 1ms/step - loss: 0.7518 - accuracy: 0.7067\n",
            "Epoch 75/100\n",
            "7192/7192 [==============================] - 9s 1ms/step - loss: 0.7609 - accuracy: 0.7066\n",
            "Epoch 76/100\n",
            "7192/7192 [==============================] - 9s 1ms/step - loss: 0.7549 - accuracy: 0.7088\n",
            "Epoch 77/100\n",
            "7192/7192 [==============================] - 9s 1ms/step - loss: 0.7554 - accuracy: 0.7086\n",
            "Epoch 78/100\n",
            "7192/7192 [==============================] - 9s 1ms/step - loss: 0.7558 - accuracy: 0.7093\n",
            "Epoch 79/100\n",
            "7192/7192 [==============================] - 9s 1ms/step - loss: 0.7504 - accuracy: 0.7085\n",
            "Epoch 80/100\n",
            "7192/7192 [==============================] - 9s 1ms/step - loss: 0.7537 - accuracy: 0.7098\n",
            "Epoch 81/100\n",
            "7192/7192 [==============================] - 9s 1ms/step - loss: 0.7505 - accuracy: 0.7086\n",
            "Epoch 82/100\n",
            "7192/7192 [==============================] - 10s 1ms/step - loss: 0.7402 - accuracy: 0.7150\n",
            "Epoch 83/100\n",
            "7192/7192 [==============================] - 9s 1ms/step - loss: 0.7455 - accuracy: 0.7098\n",
            "Epoch 84/100\n",
            "7192/7192 [==============================] - 9s 1ms/step - loss: 0.7388 - accuracy: 0.7142\n",
            "Epoch 85/100\n",
            "7192/7192 [==============================] - 9s 1ms/step - loss: 0.7398 - accuracy: 0.7134\n",
            "Epoch 86/100\n",
            "7192/7192 [==============================] - 9s 1ms/step - loss: 0.7440 - accuracy: 0.7138\n",
            "Epoch 87/100\n",
            "7192/7192 [==============================] - 10s 1ms/step - loss: 0.7258 - accuracy: 0.7158\n",
            "Epoch 88/100\n",
            "7192/7192 [==============================] - 9s 1ms/step - loss: 0.7367 - accuracy: 0.7119\n",
            "Epoch 89/100\n",
            "7192/7192 [==============================] - 9s 1ms/step - loss: 0.7519 - accuracy: 0.7088\n",
            "Epoch 90/100\n",
            "7192/7192 [==============================] - 9s 1ms/step - loss: 0.7480 - accuracy: 0.7093\n",
            "Epoch 91/100\n",
            "7192/7192 [==============================] - 10s 1ms/step - loss: 0.7433 - accuracy: 0.7102\n",
            "Epoch 92/100\n",
            "7192/7192 [==============================] - 9s 1ms/step - loss: 0.7476 - accuracy: 0.7130\n",
            "Epoch 93/100\n",
            "7192/7192 [==============================] - 9s 1ms/step - loss: 0.7273 - accuracy: 0.7159\n",
            "Epoch 94/100\n",
            "7192/7192 [==============================] - 9s 1ms/step - loss: 0.7316 - accuracy: 0.7144\n",
            "Epoch 95/100\n",
            "7192/7192 [==============================] - 9s 1ms/step - loss: 0.7416 - accuracy: 0.7136\n",
            "Epoch 96/100\n",
            "7192/7192 [==============================] - 9s 1ms/step - loss: 0.7296 - accuracy: 0.7150\n",
            "Epoch 97/100\n",
            "7192/7192 [==============================] - 9s 1ms/step - loss: 0.7422 - accuracy: 0.7130\n",
            "Epoch 98/100\n",
            "7192/7192 [==============================] - 9s 1ms/step - loss: 0.7265 - accuracy: 0.7190\n",
            "Epoch 99/100\n",
            "7192/7192 [==============================] - 9s 1ms/step - loss: 0.7256 - accuracy: 0.7188\n",
            "Epoch 100/100\n",
            "7192/7192 [==============================] - 9s 1ms/step - loss: 0.7275 - accuracy: 0.7183\n",
            "3596/3596 [==============================] - 3s 790us/step - loss: 0.6574 - accuracy: 0.7501\n",
            "Results: 72.95% (2.81%)\n"
          ],
          "name": "stdout"
        }
      ]
    }
  ]
}